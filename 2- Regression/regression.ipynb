{
 "cells": [
  {
   "cell_type": "code",
   "execution_count": 43,
   "metadata": {},
   "outputs": [],
   "source": [
    "import pandas as pd\n",
    "import matplotlib.pyplot as plt\n",
    "import seaborn as sns\n",
    "import numpy as np\n",
    "import random"
   ]
  },
  {
   "cell_type": "code",
   "execution_count": 44,
   "metadata": {},
   "outputs": [
    {
     "data": {
      "text/html": [
       "<div>\n",
       "<style scoped>\n",
       "    .dataframe tbody tr th:only-of-type {\n",
       "        vertical-align: middle;\n",
       "    }\n",
       "\n",
       "    .dataframe tbody tr th {\n",
       "        vertical-align: top;\n",
       "    }\n",
       "\n",
       "    .dataframe thead th {\n",
       "        text-align: right;\n",
       "    }\n",
       "</style>\n",
       "<table border=\"1\" class=\"dataframe\">\n",
       "  <thead>\n",
       "    <tr style=\"text-align: right;\">\n",
       "      <th></th>\n",
       "      <th>Laptop</th>\n",
       "      <th>Status</th>\n",
       "      <th>Brand</th>\n",
       "      <th>Model</th>\n",
       "      <th>CPU</th>\n",
       "      <th>RAM</th>\n",
       "      <th>Storage</th>\n",
       "      <th>Storage type</th>\n",
       "      <th>GPU</th>\n",
       "      <th>Screen</th>\n",
       "      <th>Touch</th>\n",
       "      <th>Final Price</th>\n",
       "    </tr>\n",
       "  </thead>\n",
       "  <tbody>\n",
       "    <tr>\n",
       "      <th>0</th>\n",
       "      <td>ASUS ExpertBook B1 B1502CBA-EJ0436X Intel Core...</td>\n",
       "      <td>New</td>\n",
       "      <td>Asus</td>\n",
       "      <td>ExpertBook</td>\n",
       "      <td>Intel Core i5</td>\n",
       "      <td>8</td>\n",
       "      <td>512</td>\n",
       "      <td>SSD</td>\n",
       "      <td>NaN</td>\n",
       "      <td>15.6</td>\n",
       "      <td>No</td>\n",
       "      <td>1009.00</td>\n",
       "    </tr>\n",
       "    <tr>\n",
       "      <th>1</th>\n",
       "      <td>Alurin Go Start Intel Celeron N4020/8GB/256GB ...</td>\n",
       "      <td>New</td>\n",
       "      <td>Alurin</td>\n",
       "      <td>Go</td>\n",
       "      <td>Intel Celeron</td>\n",
       "      <td>8</td>\n",
       "      <td>256</td>\n",
       "      <td>SSD</td>\n",
       "      <td>NaN</td>\n",
       "      <td>15.6</td>\n",
       "      <td>No</td>\n",
       "      <td>299.00</td>\n",
       "    </tr>\n",
       "    <tr>\n",
       "      <th>2</th>\n",
       "      <td>ASUS ExpertBook B1 B1502CBA-EJ0424X Intel Core...</td>\n",
       "      <td>New</td>\n",
       "      <td>Asus</td>\n",
       "      <td>ExpertBook</td>\n",
       "      <td>Intel Core i3</td>\n",
       "      <td>8</td>\n",
       "      <td>256</td>\n",
       "      <td>SSD</td>\n",
       "      <td>NaN</td>\n",
       "      <td>15.6</td>\n",
       "      <td>No</td>\n",
       "      <td>789.00</td>\n",
       "    </tr>\n",
       "    <tr>\n",
       "      <th>3</th>\n",
       "      <td>MSI Katana GF66 12UC-082XES Intel Core i7-1270...</td>\n",
       "      <td>New</td>\n",
       "      <td>MSI</td>\n",
       "      <td>Katana</td>\n",
       "      <td>Intel Core i7</td>\n",
       "      <td>16</td>\n",
       "      <td>1000</td>\n",
       "      <td>SSD</td>\n",
       "      <td>RTX 3050</td>\n",
       "      <td>15.6</td>\n",
       "      <td>No</td>\n",
       "      <td>1199.00</td>\n",
       "    </tr>\n",
       "    <tr>\n",
       "      <th>4</th>\n",
       "      <td>HP 15S-FQ5085NS Intel Core i5-1235U/16GB/512GB...</td>\n",
       "      <td>New</td>\n",
       "      <td>HP</td>\n",
       "      <td>15S</td>\n",
       "      <td>Intel Core i5</td>\n",
       "      <td>16</td>\n",
       "      <td>512</td>\n",
       "      <td>SSD</td>\n",
       "      <td>NaN</td>\n",
       "      <td>15.6</td>\n",
       "      <td>No</td>\n",
       "      <td>669.01</td>\n",
       "    </tr>\n",
       "  </tbody>\n",
       "</table>\n",
       "</div>"
      ],
      "text/plain": [
       "                                              Laptop Status   Brand  \\\n",
       "0  ASUS ExpertBook B1 B1502CBA-EJ0436X Intel Core...    New    Asus   \n",
       "1  Alurin Go Start Intel Celeron N4020/8GB/256GB ...    New  Alurin   \n",
       "2  ASUS ExpertBook B1 B1502CBA-EJ0424X Intel Core...    New    Asus   \n",
       "3  MSI Katana GF66 12UC-082XES Intel Core i7-1270...    New     MSI   \n",
       "4  HP 15S-FQ5085NS Intel Core i5-1235U/16GB/512GB...    New      HP   \n",
       "\n",
       "        Model            CPU  RAM  Storage Storage type       GPU  Screen  \\\n",
       "0  ExpertBook  Intel Core i5    8      512          SSD       NaN    15.6   \n",
       "1          Go  Intel Celeron    8      256          SSD       NaN    15.6   \n",
       "2  ExpertBook  Intel Core i3    8      256          SSD       NaN    15.6   \n",
       "3      Katana  Intel Core i7   16     1000          SSD  RTX 3050    15.6   \n",
       "4         15S  Intel Core i5   16      512          SSD       NaN    15.6   \n",
       "\n",
       "  Touch  Final Price  \n",
       "0    No      1009.00  \n",
       "1    No       299.00  \n",
       "2    No       789.00  \n",
       "3    No      1199.00  \n",
       "4    No       669.01  "
      ]
     },
     "execution_count": 44,
     "metadata": {},
     "output_type": "execute_result"
    }
   ],
   "source": [
    "data = pd.read_csv('https://raw.githubusercontent.com/alexeygrigorev/datasets/master/laptops.csv')\n",
    "data.head()"
   ]
  },
  {
   "cell_type": "code",
   "execution_count": 45,
   "metadata": {},
   "outputs": [],
   "source": [
    "data.columns = data.columns.str.lower().str.replace(' ', '_')"
   ]
  },
  {
   "cell_type": "code",
   "execution_count": 46,
   "metadata": {},
   "outputs": [
    {
     "data": {
      "text/html": [
       "<div>\n",
       "<style scoped>\n",
       "    .dataframe tbody tr th:only-of-type {\n",
       "        vertical-align: middle;\n",
       "    }\n",
       "\n",
       "    .dataframe tbody tr th {\n",
       "        vertical-align: top;\n",
       "    }\n",
       "\n",
       "    .dataframe thead th {\n",
       "        text-align: right;\n",
       "    }\n",
       "</style>\n",
       "<table border=\"1\" class=\"dataframe\">\n",
       "  <thead>\n",
       "    <tr style=\"text-align: right;\">\n",
       "      <th></th>\n",
       "      <th>ram</th>\n",
       "      <th>storage</th>\n",
       "      <th>screen</th>\n",
       "      <th>final_price</th>\n",
       "    </tr>\n",
       "  </thead>\n",
       "  <tbody>\n",
       "    <tr>\n",
       "      <th>0</th>\n",
       "      <td>8</td>\n",
       "      <td>512</td>\n",
       "      <td>15.6</td>\n",
       "      <td>1009.00</td>\n",
       "    </tr>\n",
       "    <tr>\n",
       "      <th>1</th>\n",
       "      <td>8</td>\n",
       "      <td>256</td>\n",
       "      <td>15.6</td>\n",
       "      <td>299.00</td>\n",
       "    </tr>\n",
       "    <tr>\n",
       "      <th>2</th>\n",
       "      <td>8</td>\n",
       "      <td>256</td>\n",
       "      <td>15.6</td>\n",
       "      <td>789.00</td>\n",
       "    </tr>\n",
       "    <tr>\n",
       "      <th>3</th>\n",
       "      <td>16</td>\n",
       "      <td>1000</td>\n",
       "      <td>15.6</td>\n",
       "      <td>1199.00</td>\n",
       "    </tr>\n",
       "    <tr>\n",
       "      <th>4</th>\n",
       "      <td>16</td>\n",
       "      <td>512</td>\n",
       "      <td>15.6</td>\n",
       "      <td>669.01</td>\n",
       "    </tr>\n",
       "  </tbody>\n",
       "</table>\n",
       "</div>"
      ],
      "text/plain": [
       "   ram  storage  screen  final_price\n",
       "0    8      512    15.6      1009.00\n",
       "1    8      256    15.6       299.00\n",
       "2    8      256    15.6       789.00\n",
       "3   16     1000    15.6      1199.00\n",
       "4   16      512    15.6       669.01"
      ]
     },
     "execution_count": 46,
     "metadata": {},
     "output_type": "execute_result"
    }
   ],
   "source": [
    "df = data[['ram', 'storage', 'screen', 'final_price']]\n",
    "df.head()"
   ]
  },
  {
   "cell_type": "code",
   "execution_count": 47,
   "metadata": {},
   "outputs": [
    {
     "data": {
      "image/png": "[encoded data removed]",
      "text/plain": [
       "<Figure size 800x500 with 1 Axes>"
      ]
     },
     "metadata": {},
     "output_type": "display_data"
    }
   ],
   "source": [
    "plt.figure(figsize=(8, 5))\n",
    "sns.histplot(df['final_price'], kde=True)\n",
    "plt.title('Distribution of Final Price')\n",
    "plt.xlabel('Final Price')\n",
    "plt.ylabel('Frequency')\n",
    "plt.show()"
   ]
  },
  {
   "cell_type": "code",
   "execution_count": 48,
   "metadata": {},
   "outputs": [
    {
     "name": "stdout",
     "output_type": "stream",
     "text": [
      "The median value for ram is: 16.0\n"
     ]
    }
   ],
   "source": [
    "median_ram = df['ram'].median()\n",
    "print(f'The median value for ram is: {median_ram}')"
   ]
  },
  {
   "cell_type": "code",
   "execution_count": 49,
   "metadata": {},
   "outputs": [
    {
     "name": "stdout",
     "output_type": "stream",
     "text": [
      "ram            0\n",
      "storage        0\n",
      "screen         4\n",
      "final_price    0\n",
      "dtype: int64\n"
     ]
    }
   ],
   "source": [
    "missing_values = df.isnull().sum()\n",
    "print(missing_values)"
   ]
  },
  {
   "cell_type": "code",
   "execution_count": 59,
   "metadata": {},
   "outputs": [],
   "source": [
    "def fill_nan_values(df,value):\n",
    "    df['screen'] = df['screen'].fillna(value)\n",
    "    df.isnull().sum()\n",
    "\n",
    "    return df"
   ]
  },
  {
   "cell_type": "code",
   "execution_count": 60,
   "metadata": {},
   "outputs": [
    {
     "name": "stderr",
     "output_type": "stream",
     "text": [
      "/tmp/ipykernel_3013/1445245981.py:2: SettingWithCopyWarning: \n",
      "A value is trying to be set on a copy of a slice from a DataFrame.\n",
      "Try using .loc[row_indexer,col_indexer] = value instead\n",
      "\n",
      "See the caveats in the documentation: https://pandas.pydata.org/pandas-docs/stable/user_guide/indexing.html#returning-a-view-versus-a-copy\n",
      "  df['screen'] = df['screen'].fillna(value)\n"
     ]
    }
   ],
   "source": [
    "df = fill_nan_values(df,0)"
   ]
  },
  {
   "cell_type": "markdown",
   "metadata": {},
   "source": [
    "Shufflle, Split data in train/val/tests sets"
   ]
  },
  {
   "cell_type": "code",
   "execution_count": 61,
   "metadata": {},
   "outputs": [],
   "source": [
    "n = len(df)\n",
    "n_val = int(n*0.2)\n",
    "n_test = int(n*0.2)\n",
    "n_train = n - n_val - n_test"
   ]
  },
  {
   "cell_type": "code",
   "execution_count": 62,
   "metadata": {},
   "outputs": [],
   "source": [
    "index = np.arange(n)"
   ]
  },
  {
   "cell_type": "code",
   "execution_count": 63,
   "metadata": {},
   "outputs": [],
   "source": [
    "np.random.shuffle(index)"
   ]
  },
  {
   "cell_type": "code",
   "execution_count": 64,
   "metadata": {},
   "outputs": [],
   "source": [
    "df_train = df.iloc[index[n_train:]]\n",
    "df_val = df.iloc[index[n_train:n_train + n_val]]\n",
    "df_test = df.iloc[index[n_train + n_val:]]"
   ]
  },
  {
   "cell_type": "code",
   "execution_count": 65,
   "metadata": {},
   "outputs": [],
   "source": [
    "df_train = df_train.reset_index(drop =True)\n",
    "df_val = df_train.reset_index(drop=True)\n",
    "df_test = df_test.reset_index(drop=True)"
   ]
  },
  {
   "cell_type": "code",
   "execution_count": 66,
   "metadata": {},
   "outputs": [],
   "source": [
    "y_train = np.log1p(df_train.final_price.values)\n",
    "y_val = np.log1p(df_val.final_price.values)\n",
    "y_test = np.log1p(df_test.final_price.values)\n"
   ]
  },
  {
   "cell_type": "code",
   "execution_count": 67,
   "metadata": {},
   "outputs": [],
   "source": [
    "del df_train['final_price']\n",
    "del df_val['final_price']\n",
    "del df_test['final_price']\n",
    "\n"
   ]
  },
  {
   "cell_type": "markdown",
   "metadata": {},
   "source": [
    "Train Linear Regression Model"
   ]
  },
  {
   "cell_type": "code",
   "execution_count": 68,
   "metadata": {},
   "outputs": [],
   "source": [
    "X_train = df_train[['ram','storage','screen']].values\n",
    "X_val = df_val[['ram','storage','screen']].values\n",
    "X_test = df_test[['ram','storage','screen']].values"
   ]
  },
  {
   "cell_type": "code",
   "execution_count": 69,
   "metadata": {},
   "outputs": [
    {
     "data": {
      "text/plain": [
       "array([7.54430036, 6.55108034, 7.60090246, 7.60110244, 5.89943149,\n",
       "       6.83856596, 7.41456686, 7.12220515, 7.5857939 , 7.25841215,\n",
       "       7.05946298, 6.95748786, 6.74523635, 6.92854761, 7.13322412,\n",
       "       7.54961443, 7.69621264, 6.38012254, 6.36337287, 6.83085264,\n",
       "       6.67651655, 7.70957299, 7.14479385, 7.77904864, 6.42032061,\n",
       "       7.19645433, 6.1737861 , 6.55108034, 7.70074779, 6.10924758,\n",
       "       6.81656062, 6.55108034, 6.40522846, 7.17088848, 7.7406644 ,\n",
       "       7.54961443, 6.55108034, 6.62007321, 6.22655643, 7.46737107,\n",
       "       7.88248094, 6.71736929, 6.68911408, 6.68586095, 8.1019777 ,\n",
       "       8.51719319, 6.73831836, 6.52914143, 7.53369371, 7.42596557,\n",
       "       6.77376664, 7.54960917, 5.98401184, 5.99393649, 7.04998374,\n",
       "       5.84643878, 7.36760756, 6.88755257, 7.82404601, 7.17011954,\n",
       "       6.07133801, 7.54960917, 6.99933122, 7.53851629, 5.99148955,\n",
       "       6.14474342, 8.03915739, 6.79794041, 7.63083013, 7.45654121,\n",
       "       5.80739146, 6.62139234, 5.83123711, 6.3442143 , 6.39692966,\n",
       "       6.62007321, 7.72260669, 5.99146455, 6.95654544, 6.78670566,\n",
       "       6.45521429, 6.13625729, 7.49554194, 7.60090246, 6.32566635,\n",
       "       6.80349416, 6.90731518, 6.33668413, 8.03947669, 5.35252142,\n",
       "       6.16512369, 6.73487699, 5.99146455, 7.17012724, 6.83087423,\n",
       "       7.82404601, 7.17161074, 6.69035769, 5.90033561, 7.39354613,\n",
       "       6.39761276, 5.67911403, 6.68461173, 5.70378247, 6.55108034,\n",
       "       7.77239055, 8.38958479, 6.13120475, 6.51891127, 6.94022247,\n",
       "       7.27931884, 5.94019757, 8.08641028, 6.17263961, 7.29083162,\n",
       "       6.85555631, 7.36345078, 6.45519856, 6.74236163, 7.15695636,\n",
       "       6.2146081 , 6.27287701, 7.72400024, 7.09007684, 6.5220928 ,\n",
       "       6.56131351, 7.37775891, 7.37775891, 6.12369822, 6.96508035,\n",
       "       7.25289697, 6.51654804, 6.83124134, 7.40853057, 7.43838353,\n",
       "       6.62007321, 6.49642802, 6.68586095, 7.37775891, 6.38893109,\n",
       "       6.47906248, 7.54960917, 6.77341213, 7.43896571, 6.80240587,\n",
       "       7.01386152, 6.76849321, 7.45588247, 6.49963665, 6.18517929,\n",
       "       6.30261898, 7.9041281 , 7.70439273, 7.40128621, 7.9373747 ,\n",
       "       7.52342729, 6.86275791, 7.54448554, 7.64969262, 6.90775528,\n",
       "       6.9246124 , 7.11580144, 7.39046534, 6.47697236, 7.20785987,\n",
       "       7.43838353, 6.91708165, 6.45047042, 6.59080916, 6.49223984,\n",
       "       5.88607625, 7.20785987, 7.9628649 , 6.39692966, 6.31714664,\n",
       "       6.85646198, 6.47347394, 6.31896811, 6.40522846, 6.19874291,\n",
       "       5.89164421, 7.37149558, 6.86963796, 7.34601021, 6.90775528,\n",
       "       6.86693328, 6.11469936, 6.14632926, 7.09007684, 8.20659453,\n",
       "       7.69621264, 6.37570602, 6.13337635, 7.86326672, 5.61159408,\n",
       "       7.45588247, 8.38935982, 6.31175296, 7.86326672, 8.49699048,\n",
       "       8.4555284 , 6.04564492, 6.67958662, 6.77774909, 7.10105799,\n",
       "       7.64969262, 6.93805167, 5.8823191 , 7.6139322 , 5.92157842,\n",
       "       6.79794041, 6.50955869, 5.94017125, 6.92363847, 6.68461173,\n",
       "       7.76397324, 6.45370374, 6.90902447, 6.60747417, 6.31282315,\n",
       "       6.34532052, 7.34659069, 7.46737107, 7.02624029, 8.10167775,\n",
       "       6.94011598, 7.40885779, 7.29205123, 7.11780549, 6.4248204 ,\n",
       "       6.3995429 , 6.70137051, 5.82894562, 6.86790157, 6.74523635,\n",
       "       6.98555856, 7.32646561, 7.31721241, 7.31101128, 6.68461173,\n",
       "       6.78467197, 7.09007684, 7.49554194, 6.24391444, 7.90100705,\n",
       "       8.5160145 , 7.68562497, 6.90775528, 6.47698775, 7.18772519,\n",
       "       6.76503898, 7.27993933, 8.36637263, 6.55433218, 7.54960917,\n",
       "       7.56467406, 5.73006731, 6.68461173, 8.02692481, 6.03030057,\n",
       "       6.74523635, 6.41352453, 6.15273269, 6.80716116, 6.90775528,\n",
       "       7.78628184, 6.85205228, 8.31874225, 6.33954769, 7.54960917,\n",
       "       6.2146081 , 6.80996603, 6.5909739 , 6.48186805, 6.77542317,\n",
       "       7.06476757, 7.91935619, 7.04751722, 6.68461173, 7.0204141 ,\n",
       "       5.9255651 , 7.10660614, 6.67203295, 7.19293422, 6.72182321,\n",
       "       7.67340915, 7.6274178 , 6.50240016, 6.81673588, 7.0527297 ,\n",
       "       6.55108034, 6.50334461, 7.13089883, 6.37891842, 6.39692966,\n",
       "       7.20651081, 6.10924758, 5.6347896 , 6.78773224, 5.64745901,\n",
       "       6.69141354, 7.43838353, 6.70930434, 7.42177579, 6.55108034,\n",
       "       7.46164039, 7.37775891, 6.87729607, 7.60090246, 8.41183268,\n",
       "       6.45519856, 6.07764224, 7.69943472, 7.80454102, 6.12905021,\n",
       "       6.13122649, 7.31322705, 6.49290628, 6.2126061 , 7.39633529,\n",
       "       7.19361068, 6.00139013, 6.58034783, 6.9501057 , 7.29743647,\n",
       "       7.6126828 , 6.60074087, 7.44902087, 7.02464903, 7.38031813,\n",
       "       6.7604031 , 6.42147592, 6.70533305, 7.00306546, 6.27287701,\n",
       "       7.08977679, 6.3473717 , 7.63640955, 7.89095298, 7.45097452,\n",
       "       5.85793315, 8.32031419, 6.68461173, 6.33792247, 7.9373747 ,\n",
       "       7.496114  , 7.03697489, 6.62007321, 7.61029323, 6.29155062,\n",
       "       7.26822302, 6.46146818, 6.40080547, 6.80571148, 6.06378521,\n",
       "       7.52294092, 6.50128967, 6.60665019, 7.6126828 , 6.10924758,\n",
       "       6.91572345, 6.76849321, 7.69621718, 7.54960917, 5.99146455,\n",
       "       6.67203295, 6.80239476, 7.27170371, 6.36304534, 7.07722797,\n",
       "       6.41352453, 7.04751722, 6.17784037, 7.02286809, 7.54433211,\n",
       "       6.6792725 , 7.60090246, 7.9373747 , 7.21168957, 6.75924367,\n",
       "       7.25491308, 6.38181602, 6.90775528, 7.43838941, 7.01423017,\n",
       "       6.74524811, 7.1436255 , 7.49554194, 6.49110283, 6.50729264,\n",
       "       7.90558913, 6.3216492 , 7.60090246, 5.98921201, 7.99968194,\n",
       "       6.74523635, 6.95104463, 7.00222875, 6.27287701, 7.82404601,\n",
       "       7.43838941, 5.92692603, 6.12702201, 7.24708058, 7.19720329,\n",
       "       7.43838353, 5.91889385, 7.82883453, 7.15807032, 6.98013175,\n",
       "       6.62007321, 7.29479162, 6.99760512, 7.86326672, 7.49554194,\n",
       "       7.56528046, 7.55903304, 6.36304534, 6.76680213, 5.53101513,\n",
       "       6.05769695, 8.58854036, 6.15464576, 7.00306546, 6.90775528,\n",
       "       7.40853057, 6.67456139, 7.49331725, 6.88755257, 7.60090246,\n",
       "       7.69621718, 6.55108034, 6.44000511, 6.29158766, 7.11909342,\n",
       "       5.70378247, 8.24275635, 6.44565633, 7.28284365, 6.94846527,\n",
       "       6.68835471, 8.14596138, 6.45519856, 6.31821107, 7.00949023,\n",
       "       5.95394439, 6.90775528, 7.21971524, 7.9157132 , 6.85646198,\n",
       "       6.51759741, 5.97888576, 8.2160908 , 8.45531779, 6.89770494,\n",
       "       6.23947631, 7.89730019, 7.35372233, 8.24275635, 7.12193881,\n",
       "       6.29893086, 7.46737107, 6.11124559, 6.75066863, 7.79462956,\n",
       "       7.72753511, 6.58098582, 6.79122146, 5.97520812, 7.05875815,\n",
       "       7.31264689, 6.47449237, 7.61429241, 7.86326672, 7.14677218,\n",
       "       7.18849581, 6.49525045, 8.18868912, 6.37594433, 6.86693328,\n",
       "       6.39692966, 6.74523635, 5.78213144, 7.233051  , 7.46736535,\n",
       "       7.17011954, 6.50729264, 6.90654455, 7.43838353, 6.21406795,\n",
       "       7.09007684, 6.51883751, 7.17901067, 6.7643467 , 6.24999455,\n",
       "       7.25135208, 6.93126671, 6.4372075 , 7.32646561, 6.03517038,\n",
       "       7.10497366, 7.33302301, 7.74254958, 7.84385256, 7.591458  ,\n",
       "       7.60090246, 7.05399187, 7.09007684, 8.34305645, 6.77659821,\n",
       "       8.43381158, 6.6066637 , 7.54961443, 7.7526703 , 7.04800406,\n",
       "       5.99238912, 7.29709101, 6.78127327, 7.29938512, 7.05875815,\n",
       "       6.01430178, 6.33615294, 5.96357934, 7.26206042, 7.10660614,\n",
       "       7.22767702, 7.78322818, 6.85934204, 6.78670566, 6.97128392,\n",
       "       7.09506438, 6.51377892, 6.41370483, 7.39018143, 7.19744284,\n",
       "       6.32296014, 6.6147256 , 7.91206055, 7.43251931, 5.79909265,\n",
       "       6.86593278, 8.25196383, 7.98616826, 7.09082655, 7.60090246,\n",
       "       7.5857939 , 6.35610766, 6.22059017, 7.91206055, 7.40853057,\n",
       "       8.18868912, 7.19684386, 6.68461173, 8.25557125, 6.30991828,\n",
       "       6.29156914, 6.27728238, 7.13057078, 8.00636757, 6.89060912,\n",
       "       7.97246602, 5.95222983, 6.76865412, 7.599947  , 7.19636442,\n",
       "       7.02997291, 7.06999317, 6.54247196, 6.60604189, 6.64639051,\n",
       "       6.50976715, 6.56618004, 6.47870932, 7.95021688, 7.24422752,\n",
       "       6.74249141, 6.71538339, 6.64639051, 7.91206055, 6.68586095,\n",
       "       7.43838353, 7.83852074, 8.00636757, 6.13567311, 7.30157282,\n",
       "       7.85530434, 7.64969262, 6.2146081 , 7.17011954, 6.44080299,\n",
       "       6.58034783, 7.46737107, 5.80196731, 7.28248623, 7.29301768,\n",
       "       6.2146081 , 6.55108034, 5.90900642, 7.53369371, 8.1993845 ,\n",
       "       6.96602419, 6.7580945 , 6.46985479, 6.90775528, 7.24422752,\n",
       "       8.2139236 , 6.68461173, 8.07090609, 7.60090246, 6.75693239,\n",
       "       7.37775891, 5.70691091, 7.15099161, 7.25713669, 6.18826412,\n",
       "       8.3663703 , 6.69367057, 8.2160881 , 6.98472558, 7.43838353,\n",
       "       7.10290257, 6.57646957, 6.7521886 , 7.25135208, 7.49554194,\n",
       "       7.54960917, 7.20785987, 7.78322402, 6.62007321, 6.08904488,\n",
       "       7.39510755, 6.80221697, 6.62151217, 7.96107727, 8.26898565,\n",
       "       6.50729264, 7.34847169, 6.69814474, 7.09007684, 6.06587604,\n",
       "       7.59990196, 6.27476202, 6.69704659, 7.31322039, 6.62804138,\n",
       "       6.6421608 , 7.62510715, 7.0909015 , 6.78995099, 6.55108034,\n",
       "       7.3065314 , 7.37775891, 7.30809394, 6.99853704, 5.97380961,\n",
       "       7.32646561, 7.31322039, 8.21555282, 6.68461173, 6.67203295,\n",
       "       7.7406644 , 6.82634998, 7.17012724, 6.55108034, 6.37727102,\n",
       "       6.72891565, 7.68955873, 6.99576616, 7.77904864, 7.08504754,\n",
       "       6.57127504, 7.14565344, 6.58191433, 6.93827478, 6.90775528,\n",
       "       7.04751722, 6.54873473, 7.44424865, 7.39018143, 8.36660051,\n",
       "       8.31898369, 6.56667243, 5.76186269, 6.09584708, 7.024907  ,\n",
       "       6.40867705, 7.09007684, 7.138867  , 6.90775528, 6.88559147,\n",
       "       7.60090246, 7.61334967, 7.64491934, 6.93805167, 7.32711672,\n",
       "       7.92153563, 8.00636757, 8.52101388, 7.34601021, 7.64969262,\n",
       "       6.2652822 , 7.19739044, 6.30991828, 7.17012724, 6.90775528,\n",
       "       7.54775482, 8.06348802, 7.54960917, 6.68461173, 6.76849321,\n",
       "       6.3917496 , 6.82328612, 5.80208816, 6.69851463, 6.2146081 ,\n",
       "       6.57925121, 7.60579547, 6.2146081 , 6.10253622, 5.99146455,\n",
       "       6.65585211, 6.53670609, 5.44302359, 6.43133108, 6.90775528,\n",
       "       6.9293602 , 6.01371516, 6.86569293, 6.23152421, 7.43838941,\n",
       "       7.64969262, 7.04242602, 7.33302301, 6.82437367, 7.24422752,\n",
       "       6.74523635, 5.70378247, 6.49932077, 7.64012317, 5.78382518,\n",
       "       6.76849321, 7.43838353, 6.88755257, 6.95654544, 6.70033743,\n",
       "       6.47294889, 6.99393298, 7.76217061, 5.74885144, 7.80792069,\n",
       "       7.54893525, 6.03308622, 5.94001335, 6.76619171, 6.32362393,\n",
       "       7.96122026, 7.20785987, 7.98956045, 5.48063892, 6.8956827 ,\n",
       "       6.83518459, 7.32220656, 6.74302214, 7.16176939, 7.10414409,\n",
       "       7.49554194, 6.97541393, 7.97280734, 6.69758965, 7.36345078,\n",
       "       6.72397666, 6.30184945, 7.32646561, 6.09580204, 7.1484165 ,\n",
       "       7.64012798, 6.51027322, 6.97769171, 6.31595457, 6.76603041,\n",
       "       6.20619279, 8.24301684, 7.27931884, 8.13153071, 7.3524411 ,\n",
       "       7.06401516, 7.94416942, 6.41345896, 6.72165459, 6.90775528,\n",
       "       6.61492665, 7.47943515, 6.27511977, 6.13122649, 6.44570395,\n",
       "       8.13182184, 7.09007684, 6.66840612, 6.49885427, 7.23417718,\n",
       "       7.0724219 , 7.0024198 , 6.31314942, 7.38239813, 6.42323073,\n",
       "       6.08420324, 5.9824238 , 5.44600434, 6.59573953, 6.30991828,\n",
       "       7.49604182, 6.31821107, 6.69171146, 6.2146081 , 6.47697236,\n",
       "       7.17283892, 8.00636757, 7.29574186, 6.2146081 , 7.85166118,\n",
       "       7.10301774, 6.76063483, 6.77598234, 8.24275635, 8.13182184,\n",
       "       6.93731408, 6.59304453, 5.98645201, 6.99583941, 7.56528046,\n",
       "       7.37149558, 5.79909265, 6.38330391, 7.82404601, 5.90536185,\n",
       "       7.37775891, 6.88755257, 6.02825442, 8.29404964, 7.6778635 ,\n",
       "       6.75343792, 6.99715713, 6.44844626, 6.10208869, 6.77836388,\n",
       "       7.65737258, 6.06380846, 7.48380669, 8.03915739, 7.43248381,\n",
       "       7.45007957, 7.16252927, 7.64969262, 8.24794549, 8.1019777 ,\n",
       "       5.97169542, 6.723099  , 7.49554194, 6.90274274, 8.47775565,\n",
       "       7.41997992, 7.61788248, 6.80239476, 7.07689027])"
      ]
     },
     "execution_count": 69,
     "metadata": {},
     "output_type": "execute_result"
    }
   ],
   "source": [
    "y_train"
   ]
  },
  {
   "cell_type": "code",
   "execution_count": 70,
   "metadata": {},
   "outputs": [],
   "source": [
    "def train_linear_regression(X, y):\n",
    "    ones = np.ones(X.shape[0])\n",
    "    X = np.column_stack([ones,X])\n",
    "\n",
    "    XTX = X.T.dot(X)\n",
    "    XTX_inv = np.linalg.inv(XTX)\n",
    "    w_full = XTX_inv.dot(X.T).dot(y)\n",
    "\n",
    "    return w_full[0], w_full[1:] \n",
    "\n",
    "w0,w = train_linear_regression(X_train, y_train)"
   ]
  },
  {
   "cell_type": "code",
   "execution_count": 71,
   "metadata": {},
   "outputs": [],
   "source": [
    "y_pred = w0 + X_train.dot(w)"
   ]
  },
  {
   "cell_type": "code",
   "execution_count": 72,
   "metadata": {},
   "outputs": [],
   "source": [
    "def rmse(y_pred,y):\n",
    "    err = y - y_pred\n",
    "    se_err = err ** 2\n",
    "    mse = se_err.mean()\n",
    "    return np.sqrt(mse)"
   ]
  },
  {
   "cell_type": "markdown",
   "metadata": {},
   "source": [
    "Validating the model"
   ]
  },
  {
   "cell_type": "code",
   "execution_count": 73,
   "metadata": {},
   "outputs": [
    {
     "data": {
      "text/plain": [
       "np.float64(0.42904100809581874)"
      ]
     },
     "execution_count": 73,
     "metadata": {},
     "output_type": "execute_result"
    }
   ],
   "source": [
    "w0,w = train_linear_regression(X_train,y_train)\n",
    "y_pred = w0 + X_val.dot(w)\n",
    "\n",
    "rmse(y_val,y_pred)"
   ]
  },
  {
   "cell_type": "markdown",
   "metadata": {},
   "source": [
    "fill nan values with mean"
   ]
  },
  {
   "cell_type": "code",
   "execution_count": 74,
   "metadata": {},
   "outputs": [
    {
     "data": {
      "text/html": [
       "<div>\n",
       "<style scoped>\n",
       "    .dataframe tbody tr th:only-of-type {\n",
       "        vertical-align: middle;\n",
       "    }\n",
       "\n",
       "    .dataframe tbody tr th {\n",
       "        vertical-align: top;\n",
       "    }\n",
       "\n",
       "    .dataframe thead th {\n",
       "        text-align: right;\n",
       "    }\n",
       "</style>\n",
       "<table border=\"1\" class=\"dataframe\">\n",
       "  <thead>\n",
       "    <tr style=\"text-align: right;\">\n",
       "      <th></th>\n",
       "      <th>ram</th>\n",
       "      <th>storage</th>\n",
       "      <th>screen</th>\n",
       "      <th>final_price</th>\n",
       "    </tr>\n",
       "  </thead>\n",
       "  <tbody>\n",
       "    <tr>\n",
       "      <th>0</th>\n",
       "      <td>8</td>\n",
       "      <td>512</td>\n",
       "      <td>15.6</td>\n",
       "      <td>1009.00</td>\n",
       "    </tr>\n",
       "    <tr>\n",
       "      <th>1</th>\n",
       "      <td>8</td>\n",
       "      <td>256</td>\n",
       "      <td>15.6</td>\n",
       "      <td>299.00</td>\n",
       "    </tr>\n",
       "    <tr>\n",
       "      <th>2</th>\n",
       "      <td>8</td>\n",
       "      <td>256</td>\n",
       "      <td>15.6</td>\n",
       "      <td>789.00</td>\n",
       "    </tr>\n",
       "    <tr>\n",
       "      <th>3</th>\n",
       "      <td>16</td>\n",
       "      <td>1000</td>\n",
       "      <td>15.6</td>\n",
       "      <td>1199.00</td>\n",
       "    </tr>\n",
       "    <tr>\n",
       "      <th>4</th>\n",
       "      <td>16</td>\n",
       "      <td>512</td>\n",
       "      <td>15.6</td>\n",
       "      <td>669.01</td>\n",
       "    </tr>\n",
       "  </tbody>\n",
       "</table>\n",
       "</div>"
      ],
      "text/plain": [
       "   ram  storage  screen  final_price\n",
       "0    8      512    15.6      1009.00\n",
       "1    8      256    15.6       299.00\n",
       "2    8      256    15.6       789.00\n",
       "3   16     1000    15.6      1199.00\n",
       "4   16      512    15.6       669.01"
      ]
     },
     "execution_count": 74,
     "metadata": {},
     "output_type": "execute_result"
    }
   ],
   "source": [
    "data = pd.read_csv('https://raw.githubusercontent.com/alexeygrigorev/datasets/master/laptops.csv')\n",
    "data.columns = data.columns.str.lower().str.replace(' ', '_')\n",
    "df = data[['ram', 'storage', 'screen', 'final_price']]\n",
    "df.head()"
   ]
  },
  {
   "cell_type": "code",
   "execution_count": 75,
   "metadata": {},
   "outputs": [
    {
     "name": "stdout",
     "output_type": "stream",
     "text": [
      "ram            0\n",
      "storage        0\n",
      "screen         4\n",
      "final_price    0\n",
      "dtype: int64\n"
     ]
    }
   ],
   "source": [
    "missing_values = df.isnull().sum()\n",
    "print(missing_values)"
   ]
  },
  {
   "cell_type": "code",
   "execution_count": 76,
   "metadata": {},
   "outputs": [
    {
     "name": "stderr",
     "output_type": "stream",
     "text": [
      "/tmp/ipykernel_3013/3108068523.py:1: SettingWithCopyWarning: \n",
      "A value is trying to be set on a copy of a slice from a DataFrame.\n",
      "Try using .loc[row_indexer,col_indexer] = value instead\n",
      "\n",
      "See the caveats in the documentation: https://pandas.pydata.org/pandas-docs/stable/user_guide/indexing.html#returning-a-view-versus-a-copy\n",
      "  df['screen'] = df['screen'].fillna(data['screen'].mean())\n"
     ]
    },
    {
     "data": {
      "text/plain": [
       "ram            0\n",
       "storage        0\n",
       "screen         0\n",
       "final_price    0\n",
       "dtype: int64"
      ]
     },
     "execution_count": 76,
     "metadata": {},
     "output_type": "execute_result"
    }
   ],
   "source": [
    "df['screen'] = df['screen'].fillna(data['screen'].mean())\n",
    "df.isnull().sum()"
   ]
  },
  {
   "cell_type": "code",
   "execution_count": 77,
   "metadata": {},
   "outputs": [],
   "source": [
    "df_train = df.iloc[index[n_train:]]\n",
    "df_val = df.iloc[index[n_train:n_train + n_val]]\n",
    "df_test = df.iloc[index[n_train + n_val:]]"
   ]
  },
  {
   "cell_type": "code",
   "execution_count": 78,
   "metadata": {},
   "outputs": [],
   "source": [
    "df_train = df_train.reset_index(drop =True)\n",
    "df_val = df_train.reset_index(drop=True)\n",
    "df_test = df_test.reset_index(drop=True)"
   ]
  },
  {
   "cell_type": "code",
   "execution_count": 79,
   "metadata": {},
   "outputs": [],
   "source": [
    "y_train = np.log1p(df_train.final_price.values)\n",
    "y_val = np.log1p(df_val.final_price.values)\n",
    "y_test = np.log1p(df_test.final_price.values)\n"
   ]
  },
  {
   "cell_type": "code",
   "execution_count": 80,
   "metadata": {},
   "outputs": [],
   "source": [
    "del df_train['final_price']\n",
    "del df_val['final_price']\n",
    "del df_test['final_price']"
   ]
  },
  {
   "cell_type": "code",
   "execution_count": 81,
   "metadata": {},
   "outputs": [],
   "source": [
    "X_train = df_train[['ram','storage','screen']].values\n",
    "X_val = df_val[['ram','storage','screen']].values\n",
    "X_test = df_test[['ram','storage','screen']].values"
   ]
  },
  {
   "cell_type": "code",
   "execution_count": 82,
   "metadata": {},
   "outputs": [],
   "source": [
    "y_pred = w0 + X_train.dot(w)"
   ]
  },
  {
   "cell_type": "code",
   "execution_count": 83,
   "metadata": {},
   "outputs": [
    {
     "data": {
      "text/plain": [
       "np.float64(0.42940370374567316)"
      ]
     },
     "execution_count": 83,
     "metadata": {},
     "output_type": "execute_result"
    }
   ],
   "source": [
    "w0,w = train_linear_regression(X_train,y_train)\n",
    "y_pred = w0 + X_val.dot(w)\n",
    "\n",
    "rmse(y_val,y_pred)"
   ]
  },
  {
   "cell_type": "code",
   "execution_count": null,
   "metadata": {},
   "outputs": [],
   "source": []
  }
 ],
 "metadata": {
  "kernelspec": {
   "display_name": "Python 3",
   "language": "python",
   "name": "python3"
  },
  "language_info": {
   "codemirror_mode": {
    "name": "ipython",
    "version": 3
   },
   "file_extension": ".py",
   "mimetype": "text/x-python",
   "name": "python",
   "nbconvert_exporter": "python",
   "pygments_lexer": "ipython3",
   "version": "3.12.1"
  }
 },
 "nbformat": 4,
 "nbformat_minor": 2
}
