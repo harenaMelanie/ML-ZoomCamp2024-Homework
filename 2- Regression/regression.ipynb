{
 "cells": [
  {
   "cell_type": "code",
   "execution_count": 166,
   "metadata": {},
   "outputs": [],
   "source": [
    "import pandas as pd\n",
    "import matplotlib.pyplot as plt\n",
    "import seaborn as sns\n",
    "import numpy as np\n",
    "import random"
   ]
  },
  {
   "cell_type": "code",
   "execution_count": 167,
   "metadata": {},
   "outputs": [
    {
     "data": {
      "text/html": [
       "<div>\n",
       "<style scoped>\n",
       "    .dataframe tbody tr th:only-of-type {\n",
       "        vertical-align: middle;\n",
       "    }\n",
       "\n",
       "    .dataframe tbody tr th {\n",
       "        vertical-align: top;\n",
       "    }\n",
       "\n",
       "    .dataframe thead th {\n",
       "        text-align: right;\n",
       "    }\n",
       "</style>\n",
       "<table border=\"1\" class=\"dataframe\">\n",
       "  <thead>\n",
       "    <tr style=\"text-align: right;\">\n",
       "      <th></th>\n",
       "      <th>Laptop</th>\n",
       "      <th>Status</th>\n",
       "      <th>Brand</th>\n",
       "      <th>Model</th>\n",
       "      <th>CPU</th>\n",
       "      <th>RAM</th>\n",
       "      <th>Storage</th>\n",
       "      <th>Storage type</th>\n",
       "      <th>GPU</th>\n",
       "      <th>Screen</th>\n",
       "      <th>Touch</th>\n",
       "      <th>Final Price</th>\n",
       "    </tr>\n",
       "  </thead>\n",
       "  <tbody>\n",
       "    <tr>\n",
       "      <th>0</th>\n",
       "      <td>ASUS ExpertBook B1 B1502CBA-EJ0436X Intel Core...</td>\n",
       "      <td>New</td>\n",
       "      <td>Asus</td>\n",
       "      <td>ExpertBook</td>\n",
       "      <td>Intel Core i5</td>\n",
       "      <td>8</td>\n",
       "      <td>512</td>\n",
       "      <td>SSD</td>\n",
       "      <td>NaN</td>\n",
       "      <td>15.6</td>\n",
       "      <td>No</td>\n",
       "      <td>1009.00</td>\n",
       "    </tr>\n",
       "    <tr>\n",
       "      <th>1</th>\n",
       "      <td>Alurin Go Start Intel Celeron N4020/8GB/256GB ...</td>\n",
       "      <td>New</td>\n",
       "      <td>Alurin</td>\n",
       "      <td>Go</td>\n",
       "      <td>Intel Celeron</td>\n",
       "      <td>8</td>\n",
       "      <td>256</td>\n",
       "      <td>SSD</td>\n",
       "      <td>NaN</td>\n",
       "      <td>15.6</td>\n",
       "      <td>No</td>\n",
       "      <td>299.00</td>\n",
       "    </tr>\n",
       "    <tr>\n",
       "      <th>2</th>\n",
       "      <td>ASUS ExpertBook B1 B1502CBA-EJ0424X Intel Core...</td>\n",
       "      <td>New</td>\n",
       "      <td>Asus</td>\n",
       "      <td>ExpertBook</td>\n",
       "      <td>Intel Core i3</td>\n",
       "      <td>8</td>\n",
       "      <td>256</td>\n",
       "      <td>SSD</td>\n",
       "      <td>NaN</td>\n",
       "      <td>15.6</td>\n",
       "      <td>No</td>\n",
       "      <td>789.00</td>\n",
       "    </tr>\n",
       "    <tr>\n",
       "      <th>3</th>\n",
       "      <td>MSI Katana GF66 12UC-082XES Intel Core i7-1270...</td>\n",
       "      <td>New</td>\n",
       "      <td>MSI</td>\n",
       "      <td>Katana</td>\n",
       "      <td>Intel Core i7</td>\n",
       "      <td>16</td>\n",
       "      <td>1000</td>\n",
       "      <td>SSD</td>\n",
       "      <td>RTX 3050</td>\n",
       "      <td>15.6</td>\n",
       "      <td>No</td>\n",
       "      <td>1199.00</td>\n",
       "    </tr>\n",
       "    <tr>\n",
       "      <th>4</th>\n",
       "      <td>HP 15S-FQ5085NS Intel Core i5-1235U/16GB/512GB...</td>\n",
       "      <td>New</td>\n",
       "      <td>HP</td>\n",
       "      <td>15S</td>\n",
       "      <td>Intel Core i5</td>\n",
       "      <td>16</td>\n",
       "      <td>512</td>\n",
       "      <td>SSD</td>\n",
       "      <td>NaN</td>\n",
       "      <td>15.6</td>\n",
       "      <td>No</td>\n",
       "      <td>669.01</td>\n",
       "    </tr>\n",
       "  </tbody>\n",
       "</table>\n",
       "</div>"
      ],
      "text/plain": [
       "                                              Laptop Status   Brand  \\\n",
       "0  ASUS ExpertBook B1 B1502CBA-EJ0436X Intel Core...    New    Asus   \n",
       "1  Alurin Go Start Intel Celeron N4020/8GB/256GB ...    New  Alurin   \n",
       "2  ASUS ExpertBook B1 B1502CBA-EJ0424X Intel Core...    New    Asus   \n",
       "3  MSI Katana GF66 12UC-082XES Intel Core i7-1270...    New     MSI   \n",
       "4  HP 15S-FQ5085NS Intel Core i5-1235U/16GB/512GB...    New      HP   \n",
       "\n",
       "        Model            CPU  RAM  Storage Storage type       GPU  Screen  \\\n",
       "0  ExpertBook  Intel Core i5    8      512          SSD       NaN    15.6   \n",
       "1          Go  Intel Celeron    8      256          SSD       NaN    15.6   \n",
       "2  ExpertBook  Intel Core i3    8      256          SSD       NaN    15.6   \n",
       "3      Katana  Intel Core i7   16     1000          SSD  RTX 3050    15.6   \n",
       "4         15S  Intel Core i5   16      512          SSD       NaN    15.6   \n",
       "\n",
       "  Touch  Final Price  \n",
       "0    No      1009.00  \n",
       "1    No       299.00  \n",
       "2    No       789.00  \n",
       "3    No      1199.00  \n",
       "4    No       669.01  "
      ]
     },
     "execution_count": 167,
     "metadata": {},
     "output_type": "execute_result"
    }
   ],
   "source": [
    "data = pd.read_csv('https://raw.githubusercontent.com/alexeygrigorev/datasets/master/laptops.csv')\n",
    "data.head()"
   ]
  },
  {
   "cell_type": "code",
   "execution_count": 168,
   "metadata": {},
   "outputs": [],
   "source": [
    "data.columns = data.columns.str.lower().str.replace(' ', '_')"
   ]
  },
  {
   "cell_type": "code",
   "execution_count": 169,
   "metadata": {},
   "outputs": [
    {
     "data": {
      "text/html": [
       "<div>\n",
       "<style scoped>\n",
       "    .dataframe tbody tr th:only-of-type {\n",
       "        vertical-align: middle;\n",
       "    }\n",
       "\n",
       "    .dataframe tbody tr th {\n",
       "        vertical-align: top;\n",
       "    }\n",
       "\n",
       "    .dataframe thead th {\n",
       "        text-align: right;\n",
       "    }\n",
       "</style>\n",
       "<table border=\"1\" class=\"dataframe\">\n",
       "  <thead>\n",
       "    <tr style=\"text-align: right;\">\n",
       "      <th></th>\n",
       "      <th>ram</th>\n",
       "      <th>storage</th>\n",
       "      <th>screen</th>\n",
       "      <th>final_price</th>\n",
       "    </tr>\n",
       "  </thead>\n",
       "  <tbody>\n",
       "    <tr>\n",
       "      <th>0</th>\n",
       "      <td>8</td>\n",
       "      <td>512</td>\n",
       "      <td>15.6</td>\n",
       "      <td>1009.00</td>\n",
       "    </tr>\n",
       "    <tr>\n",
       "      <th>1</th>\n",
       "      <td>8</td>\n",
       "      <td>256</td>\n",
       "      <td>15.6</td>\n",
       "      <td>299.00</td>\n",
       "    </tr>\n",
       "    <tr>\n",
       "      <th>2</th>\n",
       "      <td>8</td>\n",
       "      <td>256</td>\n",
       "      <td>15.6</td>\n",
       "      <td>789.00</td>\n",
       "    </tr>\n",
       "    <tr>\n",
       "      <th>3</th>\n",
       "      <td>16</td>\n",
       "      <td>1000</td>\n",
       "      <td>15.6</td>\n",
       "      <td>1199.00</td>\n",
       "    </tr>\n",
       "    <tr>\n",
       "      <th>4</th>\n",
       "      <td>16</td>\n",
       "      <td>512</td>\n",
       "      <td>15.6</td>\n",
       "      <td>669.01</td>\n",
       "    </tr>\n",
       "  </tbody>\n",
       "</table>\n",
       "</div>"
      ],
      "text/plain": [
       "   ram  storage  screen  final_price\n",
       "0    8      512    15.6      1009.00\n",
       "1    8      256    15.6       299.00\n",
       "2    8      256    15.6       789.00\n",
       "3   16     1000    15.6      1199.00\n",
       "4   16      512    15.6       669.01"
      ]
     },
     "execution_count": 169,
     "metadata": {},
     "output_type": "execute_result"
    }
   ],
   "source": [
    "df = data[['ram', 'storage', 'screen', 'final_price']]\n",
    "df.head()"
   ]
  },
  {
   "cell_type": "code",
   "execution_count": 170,
   "metadata": {},
   "outputs": [
    {
     "data": {
      "image/png": "[encoded data removed]",
      "text/plain": [
       "<Figure size 800x500 with 1 Axes>"
      ]
     },
     "metadata": {},
     "output_type": "display_data"
    }
   ],
   "source": [
    "plt.figure(figsize=(8, 5))\n",
    "sns.histplot(df['final_price'], kde=True)\n",
    "plt.title('Distribution of Final Price')\n",
    "plt.xlabel('Final Price')\n",
    "plt.ylabel('Frequency')\n",
    "plt.show()"
   ]
  },
  {
   "cell_type": "code",
   "execution_count": 171,
   "metadata": {},
   "outputs": [
    {
     "name": "stdout",
     "output_type": "stream",
     "text": [
      "The median value for ram is: 16.0\n"
     ]
    }
   ],
   "source": [
    "median_ram = df['ram'].median()\n",
    "print(f'The median value for ram is: {median_ram}')"
   ]
  },
  {
   "cell_type": "code",
   "execution_count": 172,
   "metadata": {},
   "outputs": [
    {
     "name": "stdout",
     "output_type": "stream",
     "text": [
      "ram            0\n",
      "storage        0\n",
      "screen         4\n",
      "final_price    0\n",
      "dtype: int64\n"
     ]
    }
   ],
   "source": [
    "missing_values = df.isnull().sum()\n",
    "print(missing_values)"
   ]
  },
  {
   "cell_type": "code",
   "execution_count": 173,
   "metadata": {},
   "outputs": [
    {
     "name": "stderr",
     "output_type": "stream",
     "text": [
      "/tmp/ipykernel_6764/3441553451.py:1: SettingWithCopyWarning: \n",
      "A value is trying to be set on a copy of a slice from a DataFrame.\n",
      "Try using .loc[row_indexer,col_indexer] = value instead\n",
      "\n",
      "See the caveats in the documentation: https://pandas.pydata.org/pandas-docs/stable/user_guide/indexing.html#returning-a-view-versus-a-copy\n",
      "  df['screen'] = df['screen'].fillna(0)\n"
     ]
    },
    {
     "data": {
      "text/plain": [
       "ram            0\n",
       "storage        0\n",
       "screen         0\n",
       "final_price    0\n",
       "dtype: int64"
      ]
     },
     "execution_count": 173,
     "metadata": {},
     "output_type": "execute_result"
    }
   ],
   "source": [
    "df['screen'] = df['screen'].fillna(0)\n",
    "df.isnull().sum()"
   ]
  },
  {
   "cell_type": "markdown",
   "metadata": {},
   "source": [
    "Shufflle, Split data in train/val/tests sets"
   ]
  },
  {
   "cell_type": "code",
   "execution_count": 174,
   "metadata": {},
   "outputs": [],
   "source": [
    "n = len(df)\n",
    "n_val = int(n*0.2)\n",
    "n_test = int(n*0.2)\n",
    "n_train = n - n_val - n_test"
   ]
  },
  {
   "cell_type": "code",
   "execution_count": 175,
   "metadata": {},
   "outputs": [],
   "source": [
    "index = np.arange(n)"
   ]
  },
  {
   "cell_type": "code",
   "execution_count": 176,
   "metadata": {},
   "outputs": [],
   "source": [
    "np.random.shuffle(index)"
   ]
  },
  {
   "cell_type": "code",
   "execution_count": 177,
   "metadata": {},
   "outputs": [],
   "source": [
    "df_train = df.iloc[index[n_train:]]\n",
    "df_val = df.iloc[index[n_train:n_train + n_val]]\n",
    "df_test = df.iloc[index[n_train + n_val:]]"
   ]
  },
  {
   "cell_type": "code",
   "execution_count": 178,
   "metadata": {},
   "outputs": [],
   "source": [
    "df_train = df_train.reset_index(drop =True)\n",
    "df_val = df_train.reset_index(drop=True)\n",
    "df_test = df_test.reset_index(drop=True)"
   ]
  },
  {
   "cell_type": "code",
   "execution_count": 179,
   "metadata": {},
   "outputs": [],
   "source": [
    "y_train = np.log1p(df_train.final_price.values)\n",
    "y_val = np.log1p(df_val.final_price.values)\n",
    "y_test = np.log1p(df_test.final_price.values)\n"
   ]
  },
  {
   "cell_type": "code",
   "execution_count": 180,
   "metadata": {},
   "outputs": [],
   "source": [
    "del df_train['final_price']\n",
    "del df_val['final_price']\n",
    "del df_test['final_price']\n",
    "\n"
   ]
  },
  {
   "cell_type": "markdown",
   "metadata": {},
   "source": [
    "Train Linear Regression Model"
   ]
  },
  {
   "cell_type": "code",
   "execution_count": 181,
   "metadata": {},
   "outputs": [],
   "source": [
    "X_train = df_train[['ram','storage','screen']].values\n",
    "X_val = df_val[['ram','storage','screen']].values\n",
    "X_test = df_test[['ram','storage','screen']].values"
   ]
  },
  {
   "cell_type": "code",
   "execution_count": 182,
   "metadata": {},
   "outputs": [
    {
     "data": {
      "text/plain": [
       "array([7.54433211, 6.10924758, 7.45667406, 6.73340189, 6.43935037,\n",
       "       7.69621264, 8.29404964, 7.54961443, 6.44565633, 7.54961443,\n",
       "       6.86788075, 7.36644515, 6.64639051, 7.20785987, 6.44917416,\n",
       "       8.41183268, 6.86569293, 7.31322705, 6.46985479, 8.0063709 ,\n",
       "       6.31896811, 6.3473717 , 6.62390585, 6.38706449, 6.56618004,\n",
       "       5.94017125, 7.31322039, 7.95822719, 6.2146081 , 6.72397666,\n",
       "       6.73933663, 5.94017125, 6.7058961 , 7.3395377 , 6.04025471,\n",
       "       6.73487699, 6.74523635, 7.59085212, 7.97768685, 6.89721998,\n",
       "       6.57527108, 7.88248094, 8.22922041, 7.17283892, 5.82894562,\n",
       "       7.45654121, 7.38239813, 7.57604608, 7.13933514, 6.10208869,\n",
       "       6.64429742, 6.39692966, 6.39692966, 6.87729607, 7.34601021,\n",
       "       5.99948232, 6.10231248, 7.86326672, 7.29629801, 6.35610766,\n",
       "       7.1484165 , 7.63482068, 7.07625678, 6.95104463, 7.9373747 ,\n",
       "       6.36304534, 6.34532052, 7.53851629, 6.78165903, 7.82404601,\n",
       "       8.00636757, 6.315358  , 6.99715713, 7.43838353, 6.16749553,\n",
       "       6.52119534, 5.98951264, 8.49699048, 6.9982265 , 7.90100705,\n",
       "       6.66840612, 6.99576616, 6.82328612, 8.41205265, 6.57786136,\n",
       "       7.10660614, 7.60090246, 6.19440539, 7.00306546, 7.24422752,\n",
       "       6.6421608 , 7.52958904, 7.29479162, 7.79359093, 6.5792651 ,\n",
       "       8.0063709 , 7.15815596, 6.1347637 , 7.49214173, 7.37149558,\n",
       "       7.52247595, 7.06476757, 6.36339011, 7.20785987, 6.49110283,\n",
       "       7.64969262, 7.24708058, 8.16080392, 7.37149558, 7.37775891,\n",
       "       8.43381158, 7.97280734, 7.11909342, 6.2126061 , 6.37727102,\n",
       "       6.41347535, 7.52294092, 5.80184644, 6.86790157, 7.25980555,\n",
       "       8.26898565, 7.047552  , 7.09007684, 7.45588247, 7.27931884,\n",
       "       7.69635354, 6.11124559, 5.74418838, 7.49604182, 6.68461173,\n",
       "       5.48063892, 5.96614674, 7.02709266, 7.49331725, 7.91789694,\n",
       "       8.2160881 , 6.99195855, 6.90775528, 7.1428195 , 7.61788248,\n",
       "       6.93827478, 7.27257893, 7.09007684, 5.99146455, 6.09584708,\n",
       "       6.13122649, 7.9373747 , 6.48186805, 7.60090246, 6.70033743,\n",
       "       7.9628649 , 7.62510715, 7.90100705, 5.94740816, 7.40885779,\n",
       "       5.85217374, 8.29404964, 5.64745901, 6.78773224, 6.153307  ,\n",
       "       6.59442714, 6.45370374, 8.42983194, 7.57558978, 7.21523998,\n",
       "       8.1019777 , 6.38330391, 6.47870932, 7.45007957, 7.26156211,\n",
       "       5.87493073, 6.83124134, 6.72143775, 7.76217061, 6.10922536,\n",
       "       6.63138235, 6.78670566, 6.90775528, 6.32362393, 6.86963796,\n",
       "       7.37775891, 7.10085191, 6.98378997, 8.00636757, 7.27217615,\n",
       "       6.60237077, 6.62151217, 7.17011954, 6.88755257, 6.58034783,\n",
       "       7.93773178, 6.90744523, 7.77689151, 5.78382518, 6.95654544,\n",
       "       6.96508035, 7.18539459, 7.8811822 , 7.54961443, 7.49887527,\n",
       "       7.60090246, 6.82213203, 6.15668233, 6.5329891 , 8.00636757,\n",
       "       5.92157842, 7.7406644 , 6.68461173, 5.79456728, 6.86693328,\n",
       "       6.51759741, 7.32646561, 7.44424865, 7.49554194, 6.14418563,\n",
       "       6.22057029, 5.88860091, 7.91206055, 7.67322312, 6.74236163,\n",
       "       7.07326972, 6.16716003, 7.09007684, 7.04274935, 6.9246124 ,\n",
       "       6.79628726, 7.83991936, 7.54961443, 7.21168957, 5.97169542,\n",
       "       6.95748786, 6.58191433, 6.50334461, 5.81574117, 6.6286761 ,\n",
       "       7.74543561, 7.56314867, 6.88755257, 6.39692966, 5.61159408,\n",
       "       7.21376831, 6.27287701, 8.03947669, 7.08170859, 6.70612857,\n",
       "       7.82404601, 6.34563636, 7.24422752, 6.58877516, 6.10924758,\n",
       "       7.82443793, 6.95748786, 7.91935619, 6.76619171, 7.92153563,\n",
       "       7.17165682, 6.30991828, 7.80792069, 6.73340189, 6.6147256 ,\n",
       "       7.6306991 , 7.39556199, 7.74254958, 7.51207125, 5.87495882,\n",
       "       7.54960917, 8.43381158, 7.17011954, 7.17012724, 6.58034783,\n",
       "       8.69951475, 6.55108034, 6.87434326, 7.54960917, 7.17012724,\n",
       "       6.70930434, 8.24275635, 6.73814065, 7.23417718, 6.28971557,\n",
       "       7.37775891, 7.42428461, 7.25289697, 5.95131941, 5.95394439,\n",
       "       7.43838941, 7.72557283, 6.76680213, 7.5727653 , 7.03697489,\n",
       "       8.1605211 , 6.94022247, 7.89730019, 6.55108034, 8.04193418,\n",
       "       6.39694632, 7.13090683, 7.96107727, 7.60090246, 7.43838941,\n",
       "       6.55028001, 7.54433211, 6.81656062, 8.18868912, 7.54433211,\n",
       "       5.90536185, 8.1605211 , 7.15695636, 7.86326672, 7.64969262,\n",
       "       6.37842618, 7.49554194, 7.24318411, 6.15697899, 6.39692966,\n",
       "       6.68461173, 6.97128392, 6.67203295, 6.51619308, 7.19668657,\n",
       "       6.29158766, 6.42032061, 6.87423986, 7.20785987, 7.36345078,\n",
       "       7.60090246, 7.64491934, 7.89390038, 6.39144799, 5.78382518,\n",
       "       6.62007321, 6.41336059, 6.63331843, 6.90775528, 7.60090246,\n",
       "       6.65930674, 7.64969262, 6.64841444, 6.55108034, 6.90496138,\n",
       "       6.68461173, 7.35372233, 6.68461173, 5.7791682 , 6.69704659,\n",
       "       6.23441073, 6.60716357, 7.31264689, 5.82838664, 5.67911403,\n",
       "       7.57604608, 6.29628025, 7.43838941, 7.54775482, 6.33167977,\n",
       "       6.48667895, 6.99712055, 6.80240587, 6.55108034, 6.10253622,\n",
       "       7.85514925, 8.04878828, 6.47347394, 6.59304453, 6.75901162,\n",
       "       6.87729607, 6.69704659, 5.61535191, 6.61492665, 5.99146455,\n",
       "       7.65120576, 7.84385256, 7.17011954, 7.37775891, 6.77836388,\n",
       "       7.17011954, 7.10301774, 8.2160881 , 6.55108034, 7.46737107,\n",
       "       6.07764224, 6.79794041, 7.33040521, 7.04998374, 6.68461173,\n",
       "       6.70533305, 6.27287701, 7.64969262, 6.98472558, 6.72891565,\n",
       "       7.86327057, 6.55108034, 7.02997291, 6.95936052, 6.92854761,\n",
       "       6.44573569, 7.64382784, 7.63083013, 6.56316417, 7.17161074,\n",
       "       6.30662194, 7.48605262, 7.40245762, 7.45129395, 6.16512369,\n",
       "       6.13120475, 8.21555282, 7.86326672, 8.03915739, 6.62237722,\n",
       "       7.69892713, 7.56528046, 7.18772519, 6.45519856, 6.62007321,\n",
       "       7.37775891, 8.51719319, 6.2146081 , 6.40301113, 7.10660614,\n",
       "       7.43838353, 7.46584419, 5.98718038, 8.2160908 , 6.89060912,\n",
       "       7.64969262, 6.90775528, 6.64639051, 8.14409846, 6.06380846,\n",
       "       7.14677218, 6.07071463, 6.50240016, 6.55108034, 7.13089883,\n",
       "       7.37775891, 7.27838046, 6.2146081 , 6.10924758, 7.13449237,\n",
       "       7.42596557, 6.17784037, 6.83265451, 7.18849581, 7.43838941,\n",
       "       7.20785987, 6.76849321, 7.67340915, 6.60665019, 6.2166061 ,\n",
       "       6.45401862, 7.43838353, 7.09007684, 6.14654337, 6.60247934,\n",
       "       6.39692966, 7.49554194, 5.99146455, 7.04751722, 6.9246124 ,\n",
       "       7.60090246, 6.13337635, 6.27728238, 6.3442143 , 6.56939727,\n",
       "       6.90479089, 7.24439893, 5.77762136, 7.72400024, 7.43838941,\n",
       "       7.09007684, 6.99176549, 7.20785987, 8.3663703 , 5.76186269,\n",
       "       5.80196731, 6.59304453, 6.44573569, 6.13625729, 7.35372233,\n",
       "       7.36707706, 6.44080299, 7.70074779, 6.31160776, 6.39025745,\n",
       "       6.62139234, 6.70930434, 7.56528046, 7.36760756, 5.30851519,\n",
       "       7.69621264, 6.90775528, 6.76819432, 7.31853292, 7.31322039,\n",
       "       6.15273269, 6.65562051, 8.3428398 , 6.76272951, 6.3473717 ,\n",
       "       6.32566635, 6.50729264, 6.13556489, 6.72165459, 6.90775528,\n",
       "       6.67664256, 6.51654804, 7.28920088, 6.77341213, 7.37775891,\n",
       "       6.60074087, 6.59411246, 7.53369371, 7.89313541, 6.99942247,\n",
       "       7.68562497, 8.11333379, 6.21406795, 7.78758533, 6.5909739 ,\n",
       "       6.48298502, 7.22703776, 7.13089883, 6.43131498, 7.31491894,\n",
       "       6.80571148, 6.37891842, 6.98472558, 6.20724103, 7.82404601,\n",
       "       7.82404601, 6.27511977, 6.03308622, 7.20651081, 7.13369492,\n",
       "       5.84643878, 7.35883727, 8.03947347, 7.4831263 , 7.24422752,\n",
       "       6.77992191, 6.67203295, 7.17012724, 6.38012254, 7.97246602,\n",
       "       7.31385352, 6.68461173, 7.45588247, 5.44302359, 8.32031419,\n",
       "       7.54960917, 6.69393067, 7.60090246, 7.31322039, 6.31821107,\n",
       "       6.81358745, 6.63061742, 6.04564492, 7.56320059, 6.75066863,\n",
       "       5.98898648, 6.54606779, 7.05963481, 6.27287701, 7.00306546,\n",
       "       5.88613181, 7.51207125, 5.9755638 , 6.85751406, 7.08838374,\n",
       "       6.29341928, 7.47601361, 6.69171146, 7.37838371, 5.98996342,\n",
       "       7.37775891, 6.95654544, 7.69943472, 6.50128967, 6.75693239,\n",
       "       7.51261754, 5.91423247, 7.91935619, 5.99146455, 7.55903304,\n",
       "       6.16120732, 6.2385785 , 6.9445307 , 8.03915739, 6.66929502,\n",
       "       6.58755001, 5.99146455, 6.39692966, 6.70808408, 7.04800406,\n",
       "       7.20863735, 6.66840612, 7.25251451, 6.57268805, 6.68461173,\n",
       "       7.54960917, 6.39692966, 7.15355229, 6.22059017, 8.47775565,\n",
       "       6.86275791, 6.94468491, 6.77836388, 5.99146455, 7.37775891,\n",
       "       6.85555631, 5.85793315, 6.90775528, 6.56939727, 6.39692966,\n",
       "       6.90775528, 5.6347896 , 6.03030057, 6.80239476, 6.90775528,\n",
       "       6.57646957, 7.66890217, 5.94803499, 7.33302301, 7.46737107,\n",
       "       6.17086518, 6.79122146, 6.68461173, 6.39761276, 6.57204475,\n",
       "       6.29158766, 6.90837509, 7.36518013, 6.25311702, 7.49554194,\n",
       "       7.04751722, 5.86078622, 7.44785617, 7.60090246, 6.62007321,\n",
       "       6.69704659, 6.74523635, 7.02464903, 6.56526497, 6.58098582,\n",
       "       7.34847169, 7.17626218, 6.69814474, 7.24422752, 7.49554194,\n",
       "       7.54347989, 7.60090246, 6.21558762, 6.98555856, 6.09580204,\n",
       "       7.45097452, 7.54433211, 6.90775528, 6.53471864, 7.78322402,\n",
       "       6.87729607, 5.96357934, 6.2146081 , 6.5220928 , 7.29743647,\n",
       "       6.22971344, 6.76063483, 7.37775891, 6.04737218, 8.07090921,\n",
       "       6.74523635, 8.07090609, 6.31714664, 6.71538339, 6.65585211,\n",
       "       5.97126184, 6.50955869, 7.7406644 , 7.43838353, 5.44600434,\n",
       "       8.13153071, 6.67651655, 8.87507321, 7.48380669, 6.27664349,\n",
       "       7.34659069, 6.90775528, 6.90775528, 7.88231492, 6.02586597,\n",
       "       6.2146081 , 6.70495343, 7.0024198 , 7.50749796, 6.3985783 ,\n",
       "       6.55108034, 6.99933122, 7.06986563, 7.44902087, 6.25575004,\n",
       "       5.90033561, 7.52725592, 6.41286862, 7.54960917, 5.98401184,\n",
       "       7.60090246, 7.32647219, 7.90100705, 7.70957299, 6.41352453,\n",
       "       7.14834574, 7.07326972, 7.36795475, 7.16861071, 6.18517929,\n",
       "       7.496114  , 8.06348802, 5.95222983, 7.29301768, 7.29083162,\n",
       "       7.19636442, 6.95654544, 7.09588494, 7.06401516, 6.39577899,\n",
       "       6.60604189, 6.36337287, 6.17376527, 7.74244542, 8.10167775,\n",
       "       7.53369371, 7.80792069, 6.75371793, 7.09007684, 7.90558913,\n",
       "       6.90902447, 6.70137051, 7.85530434, 6.77598234, 6.64476582,\n",
       "       6.66783427, 6.05769695, 5.92692603, 5.65599181, 5.71046013,\n",
       "       7.43838353, 6.97011017, 7.54960917, 7.34601666, 7.4961029 ,\n",
       "       6.40522846, 6.56640516, 8.1019777 , 7.9373747 , 6.45416029,\n",
       "       7.12220515, 6.1737861 , 6.30991828, 6.54534966, 6.38181602,\n",
       "       7.7406644 , 7.7406644 , 7.54961443, 8.24301684, 6.4372075 ,\n",
       "       7.15140709, 6.10924758, 6.19874291, 6.76619171, 7.00306546,\n",
       "       5.97279128, 6.95248005, 6.77490937, 6.88550967, 6.27476202,\n",
       "       7.27993933, 6.55108034, 5.83258604, 6.45519856, 5.99238912,\n",
       "       6.78127327, 6.74523635, 7.46164039, 7.32711672, 6.81962327,\n",
       "       7.15099161, 6.16958981, 6.97773833, 6.37381455, 5.78213144,\n",
       "       6.58221903, 7.70074779, 7.31322039, 6.64639051, 7.60090246,\n",
       "       7.49554194, 6.82086753, 7.52833714, 6.06930483, 6.27287701,\n",
       "       6.75073883, 7.69621264, 8.14596138, 7.39510755, 7.64012798,\n",
       "       7.11697028, 6.41345896, 7.02464903, 7.97280734, 7.77904864,\n",
       "       5.35252142, 7.22883828, 6.67203295, 7.40834267, 6.72143775,\n",
       "       7.60090246, 7.78322402, 7.69806093, 6.16541785, 7.37775891,\n",
       "       8.13153071, 8.12563395, 7.86326672, 7.7406644 , 7.09007684,\n",
       "       6.90775528, 7.69621718, 7.0527297 , 7.31386018, 6.50382399,\n",
       "       8.10167775, 6.62007321, 7.1706963 , 6.77992191, 6.2146081 ,\n",
       "       8.36660051, 7.64969262, 7.00396505, 6.33861175, 6.79969111,\n",
       "       7.351601  , 7.39633529, 8.0063709 , 6.48731865, 7.6274178 ,\n",
       "       7.16176939, 7.52583403, 6.31171666, 6.72756345, 6.53670609,\n",
       "       6.81673588, 6.20856991, 6.62007321, 7.43838941, 6.73558997,\n",
       "       7.34601021, 7.39405048, 6.81453192, 7.97280734, 7.11580144,\n",
       "       6.22655643, 6.69141354, 6.05110045, 6.5100351 ])"
      ]
     },
     "execution_count": 182,
     "metadata": {},
     "output_type": "execute_result"
    }
   ],
   "source": [
    "y_train"
   ]
  },
  {
   "cell_type": "code",
   "execution_count": 183,
   "metadata": {},
   "outputs": [],
   "source": [
    "def train_linear_regression(X, y):\n",
    "    ones = np.ones(X.shape[0])\n",
    "    X = np.column_stack([ones,X])\n",
    "\n",
    "    XTX = X.T.dot(X)\n",
    "    XTX_inv = np.linalg.inv(XTX)\n",
    "    w_full = XTX_inv.dot(X.T).dot(y)\n",
    "\n",
    "    return w_full[0], w_full[1:] \n",
    "\n",
    "w0,w = train_linear_regression(X_train, y_train)"
   ]
  },
  {
   "cell_type": "code",
   "execution_count": 184,
   "metadata": {},
   "outputs": [],
   "source": [
    "y_pred = w0 + X_train.dot(w)"
   ]
  },
  {
   "cell_type": "code",
   "execution_count": 185,
   "metadata": {},
   "outputs": [],
   "source": [
    "def rmse(y_pred,y):\n",
    "    err = y - y_pred\n",
    "    se_err = err ** 2\n",
    "    mse = se_err.mean()\n",
    "    return np.sqrt(mse)"
   ]
  },
  {
   "cell_type": "markdown",
   "metadata": {},
   "source": [
    "Validating the model"
   ]
  },
  {
   "cell_type": "code",
   "execution_count": 186,
   "metadata": {},
   "outputs": [
    {
     "data": {
      "text/plain": [
       "np.float64(0.4407828861221878)"
      ]
     },
     "execution_count": 186,
     "metadata": {},
     "output_type": "execute_result"
    }
   ],
   "source": [
    "w0,w = train_linear_regression(X_train,y_train)\n",
    "y_pred = w0 + X_val.dot(w)\n",
    "\n",
    "rmse(y_val,y_pred)"
   ]
  },
  {
   "cell_type": "markdown",
   "metadata": {},
   "source": [
    "fill nan values with mean"
   ]
  },
  {
   "cell_type": "code",
   "execution_count": null,
   "metadata": {},
   "outputs": [],
   "source": []
  },
  {
   "cell_type": "code",
   "execution_count": null,
   "metadata": {},
   "outputs": [],
   "source": []
  },
  {
   "cell_type": "code",
   "execution_count": 25,
   "metadata": {},
   "outputs": [
    {
     "data": {
      "text/plain": [
       "array([[   8.  ,  512.  ,   15.6 ,  517.01],\n",
       "       [  32.  , 1000.  ,   17.3 , 2599.  ],\n",
       "       [  16.  , 1000.  ,   12.3 , 2842.5 ],\n",
       "       ...,\n",
       "       [  16.  , 1000.  ,   15.6 , 1049.  ],\n",
       "       [  16.  ,  512.  ,   14.  , 1671.  ],\n",
       "       [  16.  ,  512.  ,   15.6 ,  755.  ]])"
      ]
     },
     "execution_count": 25,
     "metadata": {},
     "output_type": "execute_result"
    }
   ],
   "source": [
    "X = df_train.values\n",
    "X"
   ]
  },
  {
   "cell_type": "code",
   "execution_count": 21,
   "metadata": {},
   "outputs": [
    {
     "data": {
      "text/html": [
       "<div>\n",
       "<style scoped>\n",
       "    .dataframe tbody tr th:only-of-type {\n",
       "        vertical-align: middle;\n",
       "    }\n",
       "\n",
       "    .dataframe tbody tr th {\n",
       "        vertical-align: top;\n",
       "    }\n",
       "\n",
       "    .dataframe thead th {\n",
       "        text-align: right;\n",
       "    }\n",
       "</style>\n",
       "<table border=\"1\" class=\"dataframe\">\n",
       "  <thead>\n",
       "    <tr style=\"text-align: right;\">\n",
       "      <th></th>\n",
       "      <th>ram</th>\n",
       "      <th>storage</th>\n",
       "      <th>screen</th>\n",
       "    </tr>\n",
       "  </thead>\n",
       "  <tbody>\n",
       "    <tr>\n",
       "      <th>1357</th>\n",
       "      <td>8</td>\n",
       "      <td>512</td>\n",
       "      <td>15.6</td>\n",
       "    </tr>\n",
       "    <tr>\n",
       "      <th>1055</th>\n",
       "      <td>32</td>\n",
       "      <td>1000</td>\n",
       "      <td>17.3</td>\n",
       "    </tr>\n",
       "    <tr>\n",
       "      <th>513</th>\n",
       "      <td>16</td>\n",
       "      <td>1000</td>\n",
       "      <td>12.3</td>\n",
       "    </tr>\n",
       "    <tr>\n",
       "      <th>81</th>\n",
       "      <td>32</td>\n",
       "      <td>1000</td>\n",
       "      <td>15.6</td>\n",
       "    </tr>\n",
       "    <tr>\n",
       "      <th>1803</th>\n",
       "      <td>32</td>\n",
       "      <td>1000</td>\n",
       "      <td>15.6</td>\n",
       "    </tr>\n",
       "    <tr>\n",
       "      <th>...</th>\n",
       "      <td>...</td>\n",
       "      <td>...</td>\n",
       "      <td>...</td>\n",
       "    </tr>\n",
       "    <tr>\n",
       "      <th>1638</th>\n",
       "      <td>16</td>\n",
       "      <td>512</td>\n",
       "      <td>15.6</td>\n",
       "    </tr>\n",
       "    <tr>\n",
       "      <th>1095</th>\n",
       "      <td>8</td>\n",
       "      <td>512</td>\n",
       "      <td>15.6</td>\n",
       "    </tr>\n",
       "    <tr>\n",
       "      <th>1130</th>\n",
       "      <td>16</td>\n",
       "      <td>1000</td>\n",
       "      <td>15.6</td>\n",
       "    </tr>\n",
       "    <tr>\n",
       "      <th>1294</th>\n",
       "      <td>16</td>\n",
       "      <td>512</td>\n",
       "      <td>14.0</td>\n",
       "    </tr>\n",
       "    <tr>\n",
       "      <th>860</th>\n",
       "      <td>16</td>\n",
       "      <td>512</td>\n",
       "      <td>15.6</td>\n",
       "    </tr>\n",
       "  </tbody>\n",
       "</table>\n",
       "<p>1296 rows × 3 columns</p>\n",
       "</div>"
      ],
      "text/plain": [
       "      ram  storage  screen\n",
       "1357    8      512    15.6\n",
       "1055   32     1000    17.3\n",
       "513    16     1000    12.3\n",
       "81     32     1000    15.6\n",
       "1803   32     1000    15.6\n",
       "...   ...      ...     ...\n",
       "1638   16      512    15.6\n",
       "1095    8      512    15.6\n",
       "1130   16     1000    15.6\n",
       "1294   16      512    14.0\n",
       "860    16      512    15.6\n",
       "\n",
       "[1296 rows x 3 columns]"
      ]
     },
     "execution_count": 21,
     "metadata": {},
     "output_type": "execute_result"
    }
   ],
   "source": [
    "train_linear_regression"
   ]
  },
  {
   "cell_type": "code",
   "execution_count": null,
   "metadata": {},
   "outputs": [],
   "source": []
  }
 ],
 "metadata": {
  "kernelspec": {
   "display_name": "Python 3",
   "language": "python",
   "name": "python3"
  },
  "language_info": {
   "codemirror_mode": {
    "name": "ipython",
    "version": 3
   },
   "file_extension": ".py",
   "mimetype": "text/x-python",
   "name": "python",
   "nbconvert_exporter": "python",
   "pygments_lexer": "ipython3",
   "version": "3.12.1"
  }
 },
 "nbformat": 4,
 "nbformat_minor": 2
}
