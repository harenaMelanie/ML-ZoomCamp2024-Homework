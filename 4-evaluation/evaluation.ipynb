{
 "cells": [
  {
   "cell_type": "code",
   "execution_count": 33,
   "metadata": {},
   "outputs": [],
   "source": [
    "import pandas as pd\n",
    "import numpy as np\n",
    "from sklearn.model_selection import train_test_split\n",
    "from sklearn.metrics import roc_auc_score, precision_score, recall_score\n",
    "from sklearn.feature_extraction import DictVectorizer\n",
    "from sklearn.linear_model import LogisticRegression\n",
    "import matplotlib.pyplot as plt"
   ]
  },
  {
   "cell_type": "markdown",
   "metadata": {},
   "source": [
    "Load dataset"
   ]
  },
  {
   "cell_type": "code",
   "execution_count": 34,
   "metadata": {},
   "outputs": [
    {
     "data": {
      "text/html": [
       "<div>\n",
       "<style scoped>\n",
       "    .dataframe tbody tr th:only-of-type {\n",
       "        vertical-align: middle;\n",
       "    }\n",
       "\n",
       "    .dataframe tbody tr th {\n",
       "        vertical-align: top;\n",
       "    }\n",
       "\n",
       "    .dataframe thead th {\n",
       "        text-align: right;\n",
       "    }\n",
       "</style>\n",
       "<table border=\"1\" class=\"dataframe\">\n",
       "  <thead>\n",
       "    <tr style=\"text-align: right;\">\n",
       "      <th></th>\n",
       "      <th>age</th>\n",
       "      <th>job</th>\n",
       "      <th>marital</th>\n",
       "      <th>education</th>\n",
       "      <th>default</th>\n",
       "      <th>balance</th>\n",
       "      <th>housing</th>\n",
       "      <th>loan</th>\n",
       "      <th>contact</th>\n",
       "      <th>day</th>\n",
       "      <th>month</th>\n",
       "      <th>duration</th>\n",
       "      <th>campaign</th>\n",
       "      <th>pdays</th>\n",
       "      <th>previous</th>\n",
       "      <th>poutcome</th>\n",
       "      <th>y</th>\n",
       "    </tr>\n",
       "  </thead>\n",
       "  <tbody>\n",
       "    <tr>\n",
       "      <th>0</th>\n",
       "      <td>58</td>\n",
       "      <td>management</td>\n",
       "      <td>married</td>\n",
       "      <td>tertiary</td>\n",
       "      <td>no</td>\n",
       "      <td>2143</td>\n",
       "      <td>yes</td>\n",
       "      <td>no</td>\n",
       "      <td>unknown</td>\n",
       "      <td>5</td>\n",
       "      <td>may</td>\n",
       "      <td>261</td>\n",
       "      <td>1</td>\n",
       "      <td>-1</td>\n",
       "      <td>0</td>\n",
       "      <td>unknown</td>\n",
       "      <td>no</td>\n",
       "    </tr>\n",
       "    <tr>\n",
       "      <th>1</th>\n",
       "      <td>44</td>\n",
       "      <td>technician</td>\n",
       "      <td>single</td>\n",
       "      <td>secondary</td>\n",
       "      <td>no</td>\n",
       "      <td>29</td>\n",
       "      <td>yes</td>\n",
       "      <td>no</td>\n",
       "      <td>unknown</td>\n",
       "      <td>5</td>\n",
       "      <td>may</td>\n",
       "      <td>151</td>\n",
       "      <td>1</td>\n",
       "      <td>-1</td>\n",
       "      <td>0</td>\n",
       "      <td>unknown</td>\n",
       "      <td>no</td>\n",
       "    </tr>\n",
       "    <tr>\n",
       "      <th>2</th>\n",
       "      <td>33</td>\n",
       "      <td>entrepreneur</td>\n",
       "      <td>married</td>\n",
       "      <td>secondary</td>\n",
       "      <td>no</td>\n",
       "      <td>2</td>\n",
       "      <td>yes</td>\n",
       "      <td>yes</td>\n",
       "      <td>unknown</td>\n",
       "      <td>5</td>\n",
       "      <td>may</td>\n",
       "      <td>76</td>\n",
       "      <td>1</td>\n",
       "      <td>-1</td>\n",
       "      <td>0</td>\n",
       "      <td>unknown</td>\n",
       "      <td>no</td>\n",
       "    </tr>\n",
       "    <tr>\n",
       "      <th>3</th>\n",
       "      <td>47</td>\n",
       "      <td>blue-collar</td>\n",
       "      <td>married</td>\n",
       "      <td>unknown</td>\n",
       "      <td>no</td>\n",
       "      <td>1506</td>\n",
       "      <td>yes</td>\n",
       "      <td>no</td>\n",
       "      <td>unknown</td>\n",
       "      <td>5</td>\n",
       "      <td>may</td>\n",
       "      <td>92</td>\n",
       "      <td>1</td>\n",
       "      <td>-1</td>\n",
       "      <td>0</td>\n",
       "      <td>unknown</td>\n",
       "      <td>no</td>\n",
       "    </tr>\n",
       "    <tr>\n",
       "      <th>4</th>\n",
       "      <td>33</td>\n",
       "      <td>unknown</td>\n",
       "      <td>single</td>\n",
       "      <td>unknown</td>\n",
       "      <td>no</td>\n",
       "      <td>1</td>\n",
       "      <td>no</td>\n",
       "      <td>no</td>\n",
       "      <td>unknown</td>\n",
       "      <td>5</td>\n",
       "      <td>may</td>\n",
       "      <td>198</td>\n",
       "      <td>1</td>\n",
       "      <td>-1</td>\n",
       "      <td>0</td>\n",
       "      <td>unknown</td>\n",
       "      <td>no</td>\n",
       "    </tr>\n",
       "  </tbody>\n",
       "</table>\n",
       "</div>"
      ],
      "text/plain": [
       "   age           job  marital  education default  balance housing loan  \\\n",
       "0   58    management  married   tertiary      no     2143     yes   no   \n",
       "1   44    technician   single  secondary      no       29     yes   no   \n",
       "2   33  entrepreneur  married  secondary      no        2     yes  yes   \n",
       "3   47   blue-collar  married    unknown      no     1506     yes   no   \n",
       "4   33       unknown   single    unknown      no        1      no   no   \n",
       "\n",
       "   contact  day month  duration  campaign  pdays  previous poutcome   y  \n",
       "0  unknown    5   may       261         1     -1         0  unknown  no  \n",
       "1  unknown    5   may       151         1     -1         0  unknown  no  \n",
       "2  unknown    5   may        76         1     -1         0  unknown  no  \n",
       "3  unknown    5   may        92         1     -1         0  unknown  no  \n",
       "4  unknown    5   may       198         1     -1         0  unknown  no  "
      ]
     },
     "execution_count": 34,
     "metadata": {},
     "output_type": "execute_result"
    }
   ],
   "source": [
    "data = pd.read_csv(\"/workspaces/ML-ZoomCamp2024-Homework/3-Classification/bank-full.csv\", delimiter=';')\n",
    "data.head()"
   ]
  },
  {
   "cell_type": "markdown",
   "metadata": {},
   "source": [
    "Dataset preparation"
   ]
  },
  {
   "cell_type": "code",
   "execution_count": 35,
   "metadata": {},
   "outputs": [],
   "source": [
    "columns = ['age', 'job', 'marital', 'education', 'balance', 'housing', 'contact', 'day', 'month', \n",
    "           'duration', 'campaign', 'pdays', 'previous', 'poutcome', 'y']\n",
    "data = data[columns]"
   ]
  },
  {
   "cell_type": "markdown",
   "metadata": {},
   "source": [
    "Split dataset into train, val and test"
   ]
  },
  {
   "cell_type": "code",
   "execution_count": 36,
   "metadata": {},
   "outputs": [],
   "source": [
    "X = data.drop(columns=['y']) \n",
    "y = data['y'] "
   ]
  },
  {
   "cell_type": "code",
   "execution_count": 37,
   "metadata": {},
   "outputs": [
    {
     "name": "stdout",
     "output_type": "stream",
     "text": [
      "Train set: (27126, 14) (27126,)\n",
      "Validation set: (9042, 14) (9042,)\n",
      "Test set: (9043, 14) (9043,)\n"
     ]
    }
   ],
   "source": [
    "#Split into 80% train+validation and 20% test\n",
    "X_train_val, X_test, y_train_val, y_test = train_test_split(X, y, test_size=0.2, random_state=1)\n",
    "\n",
    "#Split train+validation into 60% train and 20% validation\n",
    "X_train, X_val, y_train, y_val = train_test_split(X_train_val, y_train_val, test_size=0.25, random_state=1)\n",
    "\n",
    "print(\"Train set:\", X_train.shape, y_train.shape)\n",
    "print(\"Validation set:\", X_val.shape, y_val.shape)\n",
    "print(\"Test set:\", X_test.shape, y_test.shape)"
   ]
  },
  {
   "cell_type": "code",
   "execution_count": 38,
   "metadata": {},
   "outputs": [],
   "source": [
    "numerical_columns = ['balance', 'day', 'duration', 'previous']\n",
    "X_numerical = X_train[numerical_columns]"
   ]
  },
  {
   "cell_type": "code",
   "execution_count": 39,
   "metadata": {},
   "outputs": [],
   "source": [
    "# AUC \n",
    "def compute_auc(X_train, y_train, column):\n",
    "    auc = roc_auc_score(y_train.map({'yes': 1, 'no': 0}), X_train[column])\n",
    "    if auc < 0.5:\n",
    "        auc = roc_auc_score(y_train.map({'yes': 1, 'no': 0}), -X_train[column])\n",
    "    return auc"
   ]
  },
  {
   "cell_type": "code",
   "execution_count": 40,
   "metadata": {},
   "outputs": [],
   "source": [
    "# Compute AUC for each numerical variable\n",
    "auc_scores = {}\n",
    "for col in numerical_columns:\n",
    "    auc_scores[col] = compute_auc(X_train, y_train, col)"
   ]
  },
  {
   "cell_type": "code",
   "execution_count": 41,
   "metadata": {},
   "outputs": [
    {
     "name": "stdout",
     "output_type": "stream",
     "text": [
      "balance: AUC = 0.5888\n",
      "day: AUC = 0.5260\n",
      "duration: AUC = 0.8147\n",
      "previous: AUC = 0.5986\n",
      "\n",
      "The numerical variable with the highest AUC is: duration with AUC = 0.8147\n"
     ]
    }
   ],
   "source": [
    "for col, auc in auc_scores.items():\n",
    "    print(f\"{col}: AUC = {auc:.4f}\")\n",
    "\n",
    "best_feature = max(auc_scores, key=auc_scores.get)\n",
    "print(f\"\\nThe numerical variable with the highest AUC is: {best_feature} with AUC = {auc_scores[best_feature]:.4f}\")"
   ]
  },
  {
   "cell_type": "code",
   "execution_count": 42,
   "metadata": {},
   "outputs": [
    {
     "name": "stdout",
     "output_type": "stream",
     "text": [
      "Validation AUC: 0.900\n"
     ]
    }
   ],
   "source": [
    "dv = DictVectorizer(sparse=False)\n",
    "\n",
    "X_train_dict = X_train.to_dict(orient='records')\n",
    "X_val_dict = X_val.to_dict(orient='records')\n",
    "X_train_encoded = dv.fit_transform(X_train_dict)\n",
    "X_val_encoded = dv.transform(X_val_dict)\n",
    "\n",
    "model = LogisticRegression(solver='liblinear', C=1.0, max_iter=1000)\n",
    "model.fit(X_train_encoded, y_train.map({'yes': 1, 'no': 0}))\n",
    "\n",
    "y_val_pred = model.predict_proba(X_val_encoded)[:, 1]\n",
    "\n",
    "auc = roc_auc_score(y_val.map({'yes': 1, 'no': 0}), y_val_pred)\n",
    "\n",
    "print(f\"Validation AUC: {auc:.3f}\")\n"
   ]
  },
  {
   "cell_type": "markdown",
   "metadata": {},
   "source": [
    "Precision and Recall"
   ]
  },
  {
   "cell_type": "code",
   "execution_count": 43,
   "metadata": {},
   "outputs": [
    {
     "name": "stderr",
     "output_type": "stream",
     "text": [
      "/home/codespace/.local/lib/python3.12/site-packages/sklearn/metrics/_classification.py:1531: UndefinedMetricWarning: Precision is ill-defined and being set to 0.0 due to no predicted samples. Use `zero_division` parameter to control this behavior.\n",
      "  _warn_prf(average, modifier, f\"{metric.capitalize()} is\", len(result))\n"
     ]
    },
    {
     "data": {
      "image/png": "[encoded data removed]",
      "text/plain": [
       "<Figure size 800x600 with 1 Axes>"
      ]
     },
     "metadata": {},
     "output_type": "display_data"
    },
    {
     "name": "stdout",
     "output_type": "stream",
     "text": [
      "Precision and recall intersect at threshold: 0.26\n"
     ]
    }
   ],
   "source": [
    "precisions = []\n",
    "recalls = []\n",
    "thresholds = np.arange(0.0, 1.01, 0.01)\n",
    "\n",
    "y_val_binary = y_val.map({'yes': 1, 'no': 0})\n",
    "\n",
    "for threshold in thresholds:\n",
    "    y_val_pred_threshold = (y_val_pred >= threshold).astype(int)\n",
    "    precision = precision_score(y_val_binary, y_val_pred_threshold)\n",
    "    recall = recall_score(y_val_binary, y_val_pred_threshold)\n",
    "    precisions.append(precision)\n",
    "    recalls.append(recall)\n",
    "\n",
    "#Plot\n",
    "plt.figure(figsize=(8, 6))\n",
    "plt.plot(thresholds, precisions, label='Precision', color='b')\n",
    "plt.plot(thresholds, recalls, label='Recall', color='r')\n",
    "plt.xlabel('Threshold')\n",
    "plt.ylabel('Score')\n",
    "plt.title('Precision and Recall Curves')\n",
    "plt.legend(loc='best')\n",
    "plt.grid(True)\n",
    "plt.show()\n",
    "\n",
    "for idx, (p, r) in enumerate(zip(precisions, recalls)):\n",
    "    if np.isclose(p, r, atol=0.01):  \n",
    "        intersection_threshold = thresholds[idx]\n",
    "        break\n",
    "\n",
    "print(f\"Precision and recall intersect at threshold: {intersection_threshold}\")"
   ]
  },
  {
   "cell_type": "markdown",
   "metadata": {},
   "source": [
    "F1 scores"
   ]
  },
  {
   "cell_type": "code",
   "execution_count": 44,
   "metadata": {},
   "outputs": [
    {
     "data": {
      "image/png": "[encoded data removed]",
      "text/plain": [
       "<Figure size 800x600 with 1 Axes>"
      ]
     },
     "metadata": {},
     "output_type": "display_data"
    },
    {
     "name": "stdout",
     "output_type": "stream",
     "text": [
      "The highest F1 score is 0.573 at threshold 0.22\n"
     ]
    }
   ],
   "source": [
    "f1_scores = []\n",
    "\n",
    "for precision, recall in zip(precisions, recalls):\n",
    "    if precision + recall > 0: \n",
    "        f1 = 2 * (precision * recall) / (precision + recall)\n",
    "    else:\n",
    "        f1 = 0\n",
    "    f1_scores.append(f1)\n",
    "\n",
    "plt.figure(figsize=(8, 6))\n",
    "plt.plot(thresholds, f1_scores, label='F1 Score', color='g')\n",
    "plt.xlabel('Threshold')\n",
    "plt.ylabel('F1 Score')\n",
    "plt.title('F1 Score Curve')\n",
    "plt.grid(True)\n",
    "plt.show()\n",
    "\n",
    "best_threshold = thresholds[np.argmax(f1_scores)]\n",
    "best_f1 = max(f1_scores)\n",
    "\n",
    "print(f\"The highest F1 score is {best_f1:.3f} at threshold {best_threshold}\")\n"
   ]
  },
  {
   "cell_type": "markdown",
   "metadata": {},
   "source": [
    "5-Fold CV"
   ]
  },
  {
   "cell_type": "markdown",
   "metadata": {},
   "source": [
    "from sklearn.model_selection import KFold"
   ]
  },
  {
   "cell_type": "code",
   "execution_count": 45,
   "metadata": {},
   "outputs": [],
   "source": [
    "from sklearn.model_selection import KFold\n",
    "#data['y'] = data['y'].map({'yes': 1, 'no': 0})"
   ]
  },
  {
   "cell_type": "code",
   "execution_count": 46,
   "metadata": {},
   "outputs": [
    {
     "name": "stdout",
     "output_type": "stream",
     "text": [
      "Index(['age', 'job', 'marital', 'education', 'balance', 'housing', 'contact',\n",
      "       'day', 'month', 'duration', 'campaign', 'pdays', 'previous', 'poutcome',\n",
      "       'y'],\n",
      "      dtype='object')\n"
     ]
    },
    {
     "name": "stdout",
     "output_type": "stream",
     "text": [
      "Standard Deviation of AUC Scores: 0.005082681501358866\n"
     ]
    }
   ],
   "source": [
    "\n",
    "df_full_train = pd.concat([pd.DataFrame(X_train), pd.DataFrame(y_train)], axis=1)\n",
    "df_full_train.reset_index(drop=True, inplace=True)\n",
    "\n",
    "print(df_full_train.columns)\n",
    "\n",
    "kf = KFold(n_splits=5, shuffle=True, random_state=1)\n",
    "dv = DictVectorizer(sparse=False)\n",
    "\n",
    "auc_scores = []\n",
    "\n",
    "for train_idx, val_idx in kf.split(df_full_train):\n",
    "    df_train = df_full_train.iloc[train_idx]\n",
    "    df_val = df_full_train.iloc[val_idx]\n",
    "\n",
    "    df_train = df_train.fillna(0)\n",
    "    df_val = df_val.fillna(0)\n",
    "    X_train_dict = df_train.drop(columns=['y']).to_dict(orient='records')\n",
    "    X_val_dict = df_val.drop(columns=['y']).to_dict(orient='records')\n",
    "\n",
    "    X_train_encoded = dv.fit_transform(X_train_dict)\n",
    "    X_val_encoded = dv.transform(X_val_dict)\n",
    "\n",
    "    y_train = df_train['y'].values\n",
    "    y_val = df_val['y'].values\n",
    "\n",
    "    mask_train = ~pd.isnull(y_train)\n",
    "    mask_val = ~pd.isnull(y_val)\n",
    "\n",
    "    X_train_encoded = X_train_encoded[mask_train]\n",
    "    y_train = y_train[mask_train]\n",
    "\n",
    "    X_val_encoded = X_val_encoded[mask_val]\n",
    "    y_val = y_val[mask_val]\n",
    "\n",
    "    model = LogisticRegression(solver='liblinear', C=1.0, max_iter=1000)\n",
    "    model.fit(X_train_encoded, y_train)\n",
    "\n",
    "    y_val_pred = model.predict_proba(X_val_encoded)[:, 1]\n",
    "    auc = roc_auc_score(y_val, y_val_pred)\n",
    "    auc_scores.append(auc)\n",
    "\n",
    "#standard deviation of AUC scores\n",
    "std_auc = np.std(auc_scores)\n",
    "print(f'Standard Deviation of AUC Scores: {std_auc}')\n",
    "\n"
   ]
  },
  {
   "cell_type": "code",
   "execution_count": 47,
   "metadata": {},
   "outputs": [
    {
     "name": "stdout",
     "output_type": "stream",
     "text": [
      "Index(['age', 'job', 'marital', 'education', 'balance', 'housing', 'contact',\n",
      "       'day', 'month', 'duration', 'campaign', 'pdays', 'previous', 'poutcome',\n",
      "       'y'],\n",
      "      dtype='object')\n"
     ]
    },
    {
     "name": "stdout",
     "output_type": "stream",
     "text": [
      "C = 0.000001: Mean Score = 0.698, Std = 0.005\n",
      "C = 0.001000: Mean Score = 0.853, Std = 0.006\n",
      "C = 1.000000: Mean Score = 0.908, Std = 0.005\n",
      "\n",
      "Best C value: 1\n"
     ]
    }
   ],
   "source": [
    "# Assuming X_train, y_train, X_val, y_val are prepared\n",
    "print(df_full_train.columns)\n",
    "\n",
    "c_values = [0.000001, 0.001, 1]\n",
    "mean_scores = []\n",
    "std_scores = []\n",
    "\n",
    "for c in c_values:\n",
    "    auc_scores = []\n",
    "    \n",
    "    for train_idx, val_idx in kf.split(df_full_train):\n",
    "        df_train = df_full_train.iloc[train_idx]\n",
    "        df_val = df_full_train.iloc[val_idx]\n",
    "\n",
    "        df_train = df_train.fillna(0)\n",
    "        df_val = df_val.fillna(0)\n",
    "\n",
    "        X_train_dict = df_train.drop(columns=['y']).to_dict(orient='records')\n",
    "        X_val_dict = df_val.drop(columns=['y']).to_dict(orient='records')\n",
    "\n",
    "        X_train_encoded = dv.fit_transform(X_train_dict)\n",
    "        X_val_encoded = dv.transform(X_val_dict)\n",
    "\n",
    "        y_train = df_train['y'].values\n",
    "        y_val = df_val['y'].values\n",
    "\n",
    "        mask_train = ~pd.isnull(y_train)\n",
    "        mask_val = ~pd.isnull(y_val)\n",
    "\n",
    "        X_train_encoded = X_train_encoded[mask_train]\n",
    "        y_train = y_train[mask_train]\n",
    "\n",
    "        X_val_encoded = X_val_encoded[mask_val]\n",
    "        y_val = y_val[mask_val]\n",
    "\n",
    "        model = LogisticRegression(solver='liblinear', C=c, max_iter=1000)\n",
    "        model.fit(X_train_encoded, y_train)\n",
    "\n",
    "        y_val_pred = model.predict_proba(X_val_encoded)[:, 1]\n",
    "        auc = roc_auc_score(y_val, y_val_pred)\n",
    "        auc_scores.append(auc)\n",
    "\n",
    "    mean_score = np.mean(auc_scores)\n",
    "    std_score = np.std(auc_scores)\n",
    "    \n",
    "    mean_scores.append(mean_score)\n",
    "    std_scores.append(std_score)\n",
    "\n",
    "    print(f\"C = {c:.6f}: Mean Score = {mean_score:.3f}, Std = {std_score:.3f}\")\n",
    "\n",
    "best_c = c_values[np.argmax(mean_scores)]\n",
    "print(f\"\\nBest C value: {best_c}\")\n"
   ]
  }
 ],
 "metadata": {
  "kernelspec": {
   "display_name": "Python 3",
   "language": "python",
   "name": "python3"
  },
  "language_info": {
   "codemirror_mode": {
    "name": "ipython",
    "version": 3
   },
   "file_extension": ".py",
   "mimetype": "text/x-python",
   "name": "python",
   "nbconvert_exporter": "python",
   "pygments_lexer": "ipython3",
   "version": "3.12.1"
  }
 },
 "nbformat": 4,
 "nbformat_minor": 2
}
